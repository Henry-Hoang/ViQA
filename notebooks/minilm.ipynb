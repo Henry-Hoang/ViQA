{
 "cells": [
  {
   "cell_type": "code",
   "execution_count": 3,
   "metadata": {},
   "outputs": [],
   "source": [
    "from sentence_transformers import SentenceTransformer\n",
    "from underthesea import sent_tokenize"
   ]
  },
  {
   "cell_type": "code",
   "execution_count": 4,
   "metadata": {},
   "outputs": [
    {
     "data": {
      "application/json": {
       "ascii": false,
       "bar_format": null,
       "colour": null,
       "elapsed": 0.02788853645324707,
       "initial": 0,
       "n": 0,
       "ncols": null,
       "nrows": null,
       "postfix": null,
       "prefix": "Downloading",
       "rate": null,
       "total": 470693617,
       "unit": "B",
       "unit_divisor": 1000,
       "unit_scale": true
      },
      "application/vnd.jupyter.widget-view+json": {
       "model_id": "863157c45d91409188b7a5cc7731f6ca",
       "version_major": 2,
       "version_minor": 0
      },
      "text/plain": [
       "Downloading:   0%|          | 0.00/471M [00:00<?, ?B/s]"
      ]
     },
     "metadata": {},
     "output_type": "display_data"
    },
    {
     "data": {
      "application/json": {
       "ascii": false,
       "bar_format": null,
       "colour": null,
       "elapsed": 0.02862715721130371,
       "initial": 0,
       "n": 0,
       "ncols": null,
       "nrows": null,
       "postfix": null,
       "prefix": "Downloading",
       "rate": null,
       "total": 53,
       "unit": "B",
       "unit_divisor": 1000,
       "unit_scale": true
      },
      "application/vnd.jupyter.widget-view+json": {
       "model_id": "848eef3d9bae469490d63537a2ade520",
       "version_major": 2,
       "version_minor": 0
      },
      "text/plain": [
       "Downloading:   0%|          | 0.00/53.0 [00:00<?, ?B/s]"
      ]
     },
     "metadata": {},
     "output_type": "display_data"
    },
    {
     "data": {
      "application/json": {
       "ascii": false,
       "bar_format": null,
       "colour": null,
       "elapsed": 0.02789902687072754,
       "initial": 0,
       "n": 0,
       "ncols": null,
       "nrows": null,
       "postfix": null,
       "prefix": "Downloading",
       "rate": null,
       "total": 5069051,
       "unit": "B",
       "unit_divisor": 1000,
       "unit_scale": true
      },
      "application/vnd.jupyter.widget-view+json": {
       "model_id": "d4a07e5f2f114955a18e2539085c7c67",
       "version_major": 2,
       "version_minor": 0
      },
      "text/plain": [
       "Downloading:   0%|          | 0.00/5.07M [00:00<?, ?B/s]"
      ]
     },
     "metadata": {},
     "output_type": "display_data"
    },
    {
     "data": {
      "application/json": {
       "ascii": false,
       "bar_format": null,
       "colour": null,
       "elapsed": 0.027889013290405273,
       "initial": 0,
       "n": 0,
       "ncols": null,
       "nrows": null,
       "postfix": null,
       "prefix": "Downloading",
       "rate": null,
       "total": 239,
       "unit": "B",
       "unit_divisor": 1000,
       "unit_scale": true
      },
      "application/vnd.jupyter.widget-view+json": {
       "model_id": "9b460163ff784b64aa1446fe0a36fd92",
       "version_major": 2,
       "version_minor": 0
      },
      "text/plain": [
       "Downloading:   0%|          | 0.00/239 [00:00<?, ?B/s]"
      ]
     },
     "metadata": {},
     "output_type": "display_data"
    },
    {
     "data": {
      "application/json": {
       "ascii": false,
       "bar_format": null,
       "colour": null,
       "elapsed": 0.029533863067626953,
       "initial": 0,
       "n": 0,
       "ncols": null,
       "nrows": null,
       "postfix": null,
       "prefix": "Downloading",
       "rate": null,
       "total": 9081518,
       "unit": "B",
       "unit_divisor": 1000,
       "unit_scale": true
      },
      "application/vnd.jupyter.widget-view+json": {
       "model_id": "4f74927e37a44e768121eb3667f28928",
       "version_major": 2,
       "version_minor": 0
      },
      "text/plain": [
       "Downloading:   0%|          | 0.00/9.08M [00:00<?, ?B/s]"
      ]
     },
     "metadata": {},
     "output_type": "display_data"
    },
    {
     "data": {
      "application/json": {
       "ascii": false,
       "bar_format": null,
       "colour": null,
       "elapsed": 0.026134729385375977,
       "initial": 0,
       "n": 0,
       "ncols": null,
       "nrows": null,
       "postfix": null,
       "prefix": "Downloading",
       "rate": null,
       "total": 480,
       "unit": "B",
       "unit_divisor": 1000,
       "unit_scale": true
      },
      "application/vnd.jupyter.widget-view+json": {
       "model_id": "367068105c1841c6879833463b3a18f7",
       "version_major": 2,
       "version_minor": 0
      },
      "text/plain": [
       "Downloading:   0%|          | 0.00/480 [00:00<?, ?B/s]"
      ]
     },
     "metadata": {},
     "output_type": "display_data"
    },
    {
     "data": {
      "application/json": {
       "ascii": false,
       "bar_format": null,
       "colour": null,
       "elapsed": 0.031717538833618164,
       "initial": 0,
       "n": 0,
       "ncols": null,
       "nrows": null,
       "postfix": null,
       "prefix": "Downloading",
       "rate": null,
       "total": 14763234,
       "unit": "B",
       "unit_divisor": 1000,
       "unit_scale": true
      },
      "application/vnd.jupyter.widget-view+json": {
       "model_id": "7b4170bb8e234d33b17fa87d3d6262b1",
       "version_major": 2,
       "version_minor": 0
      },
      "text/plain": [
       "Downloading:   0%|          | 0.00/14.8M [00:00<?, ?B/s]"
      ]
     },
     "metadata": {},
     "output_type": "display_data"
    },
    {
     "data": {
      "application/json": {
       "ascii": false,
       "bar_format": null,
       "colour": null,
       "elapsed": 0.05208420753479004,
       "initial": 0,
       "n": 0,
       "ncols": null,
       "nrows": null,
       "postfix": null,
       "prefix": "Downloading",
       "rate": null,
       "total": 229,
       "unit": "B",
       "unit_divisor": 1000,
       "unit_scale": true
      },
      "application/vnd.jupyter.widget-view+json": {
       "model_id": "86761555e53b4fae9ca365d61856e7a9",
       "version_major": 2,
       "version_minor": 0
      },
      "text/plain": [
       "Downloading:   0%|          | 0.00/229 [00:00<?, ?B/s]"
      ]
     },
     "metadata": {},
     "output_type": "display_data"
    }
   ],
   "source": [
    "sentence_model = SentenceTransformer('sentence-transformers/paraphrase-multilingual-MiniLM-L12-v2')"
   ]
  },
  {
   "cell_type": "code",
   "execution_count": 16,
   "metadata": {},
   "outputs": [],
   "source": [
    "question = {\"question\": \"Núi nào cao nhất Châu Âu?\", \"candidate_passages\": [\n",
    "                \"Dãy núi Karpat, Dãy núi Karpat Dãy núi Karpat hay dãy núi Carpat (; Séc, Ba Lan và Slovakia: \\\"Karpaty\\\"; Ukraina: \\\"Карпати\\\" (Karpaty); Đức: \\\"Karpaten\\\"; Serbia: \\\"Karpati\\\" / \\\"Карпати\\\"; Hungary: \\\"Kárpátok\\\") là một dãy núi tạo thành hình vòng cung dài khoảng 1.500 km ngang qua Trung Âu và Đông Âu, làm cho nó trở thành dãy núi lớn nhất tại châu Âu. Dãy núi này là nơi sinh sống của các quần thể gấu nâu, sói xám, sơn dương Chamois và linh miêu lớn nhất tại châu Âu, với mật độ cao nhất tại România cũng như của trên một phần ba các loài thực vật tại châu Âu.\",\n",
    "                \"Dãy núi Kavkaz,  Xác định vị trí địa lý. , Không có định nghĩa hay sự thống nhất rõ ràng về việc dãy núi Kavkaz là một phần của châu Âu hay một phần của châu Á. Phụ thuộc vào các cách nhìn nhận khác nhau mà đỉnh núi cao nhất châu Âu hoặc là Elbrus (5.642 m) hoặc là Mont Blanc tại dãy núi Alps, trên biên giới Pháp-Italia, với độ cao 4.810 m.\",\n",
    "                \"Dãy núi Kavkaz, Dãy núi Kavkaz Dãy núi Kavkaz, hoặc gọi mạch núi Cáp-ca (chữ Anh: Caucasus Mountains) là mạch núi phân chia giới hạn hai châu lục. Đỉnh núi cao nhất của nó là En-bơ-rút, chiều cao so với mức mặt biển của nó là 5.642 mét (18.510 dặm Anh), đồng thời cũng là đỉnh núi cao nhất ở châu Âu.\",\n",
    "                \"Dãy núi Kavkaz, Theo định nghĩa này, dãy núi Kavkaz là một phần của châu Á và như thế thì đỉnh núi cao nhất châu Âu sẽ là Mont Blanc. Ngược lại, La Grande Encyclopédie vẽ ranh giới giữa châu Âu và châu Á ở phía nam của cả hai dãy Đại và Tiểu Kavkaz. Như thế thì các đỉnh Elbrus và Kazbek đều là các đỉnh núi thuộc châu Âu.\",\n",
    "                \"Moskva, Moskva là nơi có số tỷ phú cao thứ ba của bất kỳ thành phố nào trên thế giới, và có số lượng tỷ phú cao nhất của bất kỳ thành phố nào ở Châu Âu. Trung tâm kinh doanh quốc tế Moskva là một trong những trung tâm tài chính lớn nhất của Châu Âu và thế giới, và có một số trong Những tòa nhà chọc trời cao nhất Châu Âu. Moskva cũng là quê hương của công trình kiến ​​trúc tự do cao nhất ở Châu Âu, Tháp Ostankino, và là thành phố đăng cai của Thế vận hội mùa hè 1980, một trong những thành phố đăng cai của FIFA World Cup 2018.\",\n",
    "                \"Rila, Rila Rila (, ) là một dãy núi ở tây nam Bulgaria, là dãy núi cao nhất Bulgaria và toàn Balkan, với đỉnh cao nhất là Musala (2.925 m). Đây cũng dãy núi cao thứ sáu châu Âu (nếu mỗi khối núi chỉ được đại diện bởi đỉnh cao nhất), sau Kavkaz, Alps, Sierra Nevada, Pyrénées và Núi Etna.\",\n",
    "                \"Mạng lưới Đường bộ Quốc tế châu Âu,  Tuyến đường châu Âu xa nhất về phía nam là E75, khi nó chạy trên đảo Crete, Hy Lạp ở 35 độ 6' Bắc.  Tuyến đường châu Âu xa nhất về phía đông là E127 khi chạy qua Maikapshagai, Kazakhstan ở 85 ° 36' Đông.  Tuyến đường châu Âu cao nhất là E008, ở độ cao 4.272 m (13.562 ft) trong dãy núi Pamir ở Tajikistan. \",\n",
    "                \"Kavkaz, Tất cả Armenia, Azerbaijan (trừ phần phía bắc) và Gruzia (không bao gồm các phần phía Bắc) nằm ở Nam Caucasus. Dãy núi Caucasus chính được xem là đường phân chia giữa châu Á và châu Âu. Đỉnh cao nhất ở vùng Caucasus là núi Elbrus (5.642 m) ở Tây Ciscaucas ở Nga, và thường được coi là điểm cao nhất ở châu Âu.\",\n",
    "                \"Đồng bằng châu Âu, Đồng bằng châu Âu Đồng bằng châu Âu là một đồng bằng tại châu Âu. Đây là vùng cảnh quan phi đồi núi lớn nhất tại châu Âu, mặc dù vậy, vẫn có một số cao nguyên được xác định là nằm trong đồng bằng.\",\n",
    "                \"Dãy núi Kavkaz, Trong thuật ngữ chính trị, phân chia ngày nay hoặc được coi là đường biên giới giữa Nga (châu Âu) ở một bên và Gruzia, Armenia cùng Azerbaijan (châu Á) ở bên kia, hoặc là đưa Gruzia và Azerbaijan vào trong châu Âu nhưng không đưa Armenia vào châu lục này, hoặc là đưa cả ba quốc gia này vào châu Âu.  Các đỉnh núi đáng chú ý. , Bảng dưới đây liệt kê một số đỉnh núi cao nhất tại dãy núi Kavkaz.\",\n",
    "                \"Núi Ólympos, Núi Ólympos Núi Ólympos (tiếng Hy Lạp: Όλυμπος) hay núi Olympus hoặc Óros Ólimbos, còn gọi là Núi Ô Lim, là ngọn núi cao nhất tại Hy Lạp với độ cao 2.919 m (9.577 ft). Do chân núi nằm gần như ngang với mực nước biển, nên nó là một trong những ngọn núi cao nhất tại châu Âu khi tính theo độ cao tương đối từ chân tới đỉnh.\",\n",
    "                \"Tây Kavkaz, Nó được biết đến như là khu vực núi cao rộng lớn duy nhất của châu Âu không chịu sự tác động đáng kể nào của con người. Một loạt các môi trường sống thay đổi liên tục trong khu vực diện tích nhỏ, từ vùng đất thấp cho đến những đỉnh núi cao, sông băng. Khu vực này cách khoảng 50 km về phía băc thành phố nghỉ mát Sochi. \",\n",
    "                \"Núi Etna, Đây là núi lửa còn hoạt động cao nhất châu Âu ngoài Kavkaz, với độ cao hiện tại là , dù số đo này thay đổi sau mỗi lần phun trào. Etna là đỉnh cao nhất nước Ý nằm ngoài dãy Alps. Etna có diện tích , với chu vi chân núi 140 km, khiến nó trở thành núi lớn nhất trong ba núi lửa còn hoạt động của Ý, gấp 2,5 lần ngọn núi đứng ngay sau nó là Núi Vesuvius.\",\n",
    "                \"Richard Bass,  Leo núi. , Cùng với Frank Wells, chủ tịch một thời của hãng Walt Disney, Bass tham gia vào thách thức phiêu lưu chinh phục những đỉnh cao của châu lục: Denali, Bắc Mỹ; Aconcagua, Nam Mỹ; Núi Elbrus, châu Âu; Núi Kilimanjaro, châu Phi; Vinson Massif, châu Nam Cực; Núi Kosciuszko, Australia; và Núi Everest, châu Á.  Bass trở thành người đầu tiên chinh phục tất cả Seven Summits (đỉnh cao nhất của mỗi châu lục) vào ngày 30 tháng 4 năm 1985.\",\n",
    "                \"Đồng bằng Đông Âu, Đây là phần cảnh quan phi đồi núi lớn nhất châu Âu. Đồng bằng trải rộng khoảng và có độ cao trung bình là . Điểm cao nhất của đồng bằng nằm tại Vùng đồi Valdai với cao độ .\",\n",
    "                \"Bảy đỉnh núi cao nhất mỗi châu lục, Bảy đỉnh núi cao nhất mỗi châu lục Bảy đỉnh núi cao nhất mỗi châu lục là các núi cao nhất trong bảy châu lục. Việc leo lên tất cả các đỉnh núi này được xem là một thách thức đối với môn thể thao leo núi, người đầu tiên đạt được kỷ lục này vào ngày 30 tháng 4 năm 1985 là Richard Bass.Bảy đỉnh cao mỗi châu lục gồm có các đỉnh núi cao nhất của mỗi bảy châu lục.\",\n",
    "                \"Musala, Nó nằm trong dãy Rila ở tây nam Bulgaria. \\\"Musala\\\" cũng là đỉnh cao nhất trên bán đảo Balkan, cao nhất ở dải giữa dãy Alps và vùng Kavkaz . Với độ cao trội (tầm cao từ chân núi) là 2473 m, Musala là đỉnh núi cao thứ 7 ở Châu Âu .\",\n",
    "                \"Tehran, Có hai thang máy trượt tuyết trên ghế ở Tochal đạt độ cao 3.900 mét (12.800 feet) gần đỉnh Tochal (ở độ cao 4.000 m / 13.000 ft), cao hơn trạm thứ 7 của gondola, cao hơn bất kỳ khu nghỉ mát trượt tuyết nào của Châu Âu. Từ đỉnh Tochal, có tầm nhìn ra dãy núi Alborz, bao gồm núi Damavand cao 5.610 mét, một ngọn núi lửa đã ngừng hoạt động. Tehran có sân vận động Azadi, sân vận động lớn nhất ở Tây Á, nơi có nhiều trận đấu hàng đầu của giải Ngoại hạng của Iran và cũng là sân nhà của đội tuyển bóng đá quốc gia Iran.\",\n",
    "                \"Kavkaz, Kavkaz Kavkaz (tiếng Armenia: Կովկաս, tiếng Azerbaijan: Qafqaz, tiếng Gruzia: კავკასია (K'avk'asia), tiếng Nga: Кавка́з, tiếng Adygea: Къэфкъас, tiếng Ossetia: Кавказ, tiếng Chechnya: Кавказ) là một khu vực địa lý nằm ở biên giới giữa châu Á và châu Âu, chủ yếu là trên lãnh thổ Gruzia, Azerbaijan, Armenia và một phần ở Nam Nga. Nơi đây có dãy núi Kavkaz, bao gồm ngọn núi cao nhất châu Âu là núi Elbrus.\",\n",
    "                \"Núi Bà Đen, , Bức tượng với tổng chiều cao 72m, được đúc bởi hơn 170 tấn đồng đỏ theo kỹ thuật công nghệ gia công cơ khí áp lực cao của Châu Âu, tượng Phật Bà Tây Bổ Đà Sơn tại Tây Ninh đã xác lập kỷ lục \\\"Tượng Phật Bà bằng đồng cao nhất Châu Á tọa lạc trên đỉnh núi\\\" và \\\"Tượng Phật Bà bằng đồng cao nhất Việt Nam tọa lạc trên đỉnh núi\\\".  Leo núi Bà Đen. , Có hai con đường lên đỉnh Bà Đen: một là đường mòn nằm sau lưng chùa Bà, đường này xấu, khó đi.\",\n",
    "                \"Dãy núi Rhodope, Dãy núi Rhodope Rhodopes (; , \\\"Rodopi\\\"; , \\\"Rodopi\\\"; ) là một dãy núi ở Đông Nam châu Âu, hơn 83% diện tích nằm ở miền nam Bulgaria và phần còn lại ở Hy Lạp. Đỉnh cao nhất là ở Golyam Perelik (), ngọn núi cao thứ 7 ở Bulgaria.\",\n",
    "                \"Dãy núi Świętokrzyskie, Dãy núi Świętokrzyskie Dãy núi Świętokrzyskie (hay còn được gọi là dãy núi Holy Cross) là một dãy núi nằm ở miền trung Ba Lan, gần thành phố Kielce. Dãy núi Świętokrzyskie là một trong những dãy núi lâu đời nhất ở châu Âu, đồng thời nó cũng là dãy núi cao nhất giữa hai dãy núi Sudetes và Ural.\",\n",
    "                \"Sicilia, Núi Etna là núi lửa hoạt động có kích cỡ lớn nhất tại châu Âu và vẫn phun tro đen khắp đảo trong các vụ phun trào thường xuyên của nó. Hiện nay, núi lửa này cao 3.329 m song nó sẽ thay đổi sau các vụ phun trào từ đỉnh; núi hiện thấp hơn 21 m so với độ cao vào năm 1981. Đây là núi cao nhất tại phần phía nam dãy Alpes của Ý.\",\n",
    "                \"Elbrus, Elbrus Đỉnh Elbrus (tiếng Nga: Эльбрус) là một đỉnh núi nằm ở miền tây dãy núi Kavkaz, tại nước cộng hòa tự trị Kabardino-Balkaria thuộc Liên bang Nga, gần biên giới với Gruzia. Một núi lửa đã không hoạt động kể từ khoảng 2.000 năm trước, nó là đỉnh núi cao nhất trong dãy Kavkaz, phần thuộc về châu Âu (nếu biên giới giữa châu Âu và châu Á được coi là nằm ở phía nam đỉnh Elbrus - tại khu vực sông Kura và Qvirila).\",\n",
    "                \"Núi Alam-Kuh, Mặt đá hoa cương ở phía bắc cao 800 mét, cung cấp một số các tuyến leo núi khó khăn và thú vị nhất ở nước này tương đương với các tuyến leo núi chính ở dãy núi Alps ở châu Âu. Ngoài các nhà leo núi địa phương, mặt phía Bắc thu hút các đội leo núi châu Âu. Sự xuất hiện đầu tiên được biết đến từ phía bắc là bởi một toán người Đức (Gorter / Steinauer) vào năm 1936 qua ngọn núi tây bắc.\",\n",
    "                \"Dãy núi Balkan, Dãy núi Balkan Dãy Balkan là dãy núi nằm ở châu âu ở Bán đảo Balkan.Kéo dài từ phía tây của Serbia đến Biển Đen.Phần lớn nhất của nó nằm ở Bulgaria và chia nước này thành hai phần bắc nam. Đỉnh núi cao nhất của nó là Botev\",\n",
    "                \"Vườn quốc gia Prielbrusye, Cao hơn là một vành đai mỏng của các loài cây lá rộng và cây bui núi cao. Cao hơn nữa là đồng cỏ núi cao và cuối cùng là tuyết, đá và băng đá ở khu vực cao nhất. Động vật có vú phổ biến nhất là sói thảo nguyên, chó rừng châu Âu, cáo đỏ, linh miêu Kavkaz, lợn rừng và gấu nâu Syria. \",\n",
    "                \"Nga, Phần lớn đất đai Nga là các đồng bằng rộng lớn, ở cả châu Âu và châu Á, được biết đến như là Siberia. Các đồng bằng này chủ yếu là thảo nguyên về phía nam và rừng rậm về phía bắc, với các tundra (lãnh nguyên) dọc theo bờ biển phía bắc. Các dãy núi chủ yếu nằm ở biên giới phía nam, chẳng hạn như Kavkaz (ở đây có đỉnh Elbrus, là điểm cao nhất thuộc Nga và châu Âu với cao độ 5,633 m) và dãy núi Altai, cũng như ở phần phía đông, chẳng hạn như dãy Verkhoyansk hoặc các núi lửa trên Kamchatka.\",\n",
    "                \"Núi, Theo quan niệm của các nhà nghiên cứu thì núi cao hơn đồi. Theo bách khoa toàn thư Britannica, núi có chiều cao từ 500 m trở lên. Núi là dạng địa hình phổ biến của Trái Đất, chiếm 52% diện tích châu Á, 36% Bắc Mỹ, 25% châu Âu, 22% nam Mỹ, 17% của Australia, khoảng 33% bề mặt châu Âu và 24% bề mặt Trái Đất.\",\n",
    "                \"Chủ nghĩa vô thần, Một cuộc thăm dò vào tháng 11-12 năm 2006 được công bố tại báo \\\"Financial Times\\\" đưa ra các tỷ lệ tại Hoa Kỳ và 5 nước châu Âu. Theo đó, tỷ lệ người Mỹ nói rằng mình có một đức tin nào đó vào thượng đế hay đấng tối cao là 73% và cao hơn tỷ lệ tương ứng của châu Âu. Còn đối với những người trưởng thành được thăm dò ý kiến ở châu Âu, nước Ý có tỷ lệ thể hiện đức tin cao nhất (62%), còn Pháp có tỷ lệ thấp nhất (27%).\",\n",
    "                \"Cầu cạn Millau,  Sàn cầu cao cạn cao nhất thế giới, cao 270 m trên sông Tarn tại điểm cao nhất. Nó gần như gấp đôi chiều cao của cầu cao nhất trước đó ở châu Âu, Europabrücke ở Áo. Nó hơi cao hơn Cầu hẻm núi sông New ở Tây Virginia ở Hoa Kỳ, với chiều cao 267m trên Sông New.\",\n",
    "                \"Núi Kilimanjaro, Núi Kilimanjaro Kilimanjaro với 3 chóp núi lửa hình nón, Kibo, Mawensi và Shira, là một núi lửa dạng tầng không hoạt động ở đông bắc Tanzania. Mặc dù không phải là núi cao nhất, nhưng Kilimanjaro lại là ngọn núi đứng một mình cao nhất thế giới với độ cao từ chân núi, và là đỉnh núi cao nhất châu Phi với độ cao 5.895 m (19.340 ft) và cao thứ 4 trong số 7 đỉnh cao nhất theo từng châu lục trên thế giới.\",\n",
    "                \"Montenegro, Các ngọn núi tạo thành địa hình nước này gồ ghề nhất ở châu Âu, độ cao trung bình của các ngon núi ở Montenegro cao hơn 2.000 mét. Một trong những đỉnh núi đáng chú ý là Bobotov Kuk ở vùng núi Durmitor, đạt đến độ cao 2.522 mét. Các dãy núi ở Montenegrin hình thành do băng bị xói mòn ở các bộ phận của bán đảo Balkan trong thời kỳ băng hà cuối cùng.\",\n",
    "                \"Kebnekaise, Sông băng đã rút cạn trong những năm gần đây, do đó đỉnh phía nam không còn cao như trước. Khối núi gắn liền với Kebnepakteglaciären, Isfallsglaciären và Storglaciären về phía thung lũng Tarfala ở phía đông, sông băng Björlings ở phía đông nam, và Rabots glaciär ở phía tây. Ở châu Âu không có ngọn núi nào cao hơn về phía bắc.\",\n",
    "                \"Hẻm núi Sićevo,  Lịch sử. , Ngay từ buổi đầu lịch sử, hẻm núi Sićevo đã nằm trên giao lộ giữa châu Âu với châu Á và châu Phi, là nơi chứng kiến ảnh hưởng của phát triển xã hội và quan hệ kinh tế thời xưa. Các tuyến đường cao tốc châu Âu ở Balkan đi qua hẻm núi Sićevo ngày nay bắt đầu từ con đường Via militaris thời La Mã và Byzantium, phát triển thành \\\"Đường đến Constantinopolis\\\" thời Ottoman cho đến cao tốc xuyên châu Âu tuyến E-75 và nhánh E-80 phía đông vào thế kỷ 21.\",\n",
    "                \"Đèo Champex,  Xem thêm. , Danh sách những con đường trải nhựa cao nhất châu Âu.  Danh sách những đèo núi.\",\n",
    "                \"Cảnh quan thiên nhiên, \\\" Ở đây, ông bẻ cong phần nào nghĩa từ điển thông thường của hoang dã, để nhấn mạnh rằng không có gì tự nhiên, ngay cả trong một khu vườn, hoàn toàn dưới sự kiểm soát của con người.  Châu Âu. , Cảnh quan của châu Âu đã thay đổi đáng kể bởi con người và ngay cả trong một khu vực, như Dãy núi Cairngorm của Scotland, với mật độ dân số thấp, chỉ có \\\"những đỉnh cao của Dãy núi Cairngorm, hoàn toàn bao gồm các yếu tố tự nhiên.\",\n",
    "                \"Luân Đôn, Thành phố có giá bất động sản cao nhất của bất kỳ thành phố châu Âu nào theo Văn phòng thống kê quốc gia và Văn phòng thống kê châu Âu. Trung bình giá mỗi mét vuông ở trung tâm Luân Đôn là € 24,252 (tháng 4 năm 2014). Giá này cao hơn giá bất động sản ở các thành phố thủ đô G8 khác của châu Âu; Berlin € 3,306, Rome € 6,188 và Paris € 11,229.\",\n",
    "                \"Danh sách tòa nhà cao nhất châu Âu, Danh sách tòa nhà cao nhất châu Âu Đây là danh sách tòa nhà cao nhất Châu Âu, xếp hạng tòa nhà chọc trời có chiều cao từ trở lên. Tòa nhà cao nhất Châu Âu hiện nay là Lakhta Center (Tiếng Nga: Лахта центр), cao 462,5 m (1.519 ft) với 87 tầng, tòa nhà được xây dựng năm 2012 ở phía bắc thành phố Saint Petersburg và được hoàn thành vào năm 2018.\",\n",
    "                \"Samos, Núi Kerkis, nhỏ hơn về diện tích song lại cao hơn và đỉnh cao nhất đạt . Những ngọn núi này là sự nối tiếp của dãy Mycale trên đại lục Tiểu Á. Samos là một trong những nơi nhiều nắng nhất tại châu Âu với khoảng 3300 giờ nắng trung bình hay 74% tổng số thời gian ban ngày.\",\n",
    "                \"Danh sách dãy núi ở Ba Lan, Dãy núi Świętokrzyskie, một trong những dãy núi lâu đời nhất ở châu Âu, nằm ở miền trung Ba Lan, trong vùng lân cận của thành phố Kielce. Dãy núi bao gồm một số dãy núi riêng biệt, trong đó cao nhất làLysogóryóry (\\\"vùng núi hói\\\"). Cùng với Jura Krakowsko-Częstochowska, những ngọn núi tạo thành một khu vực được gọi là Vùng thượng du nhỏ Ba Lan (\\\"Wyżyna Małopolska\\\").\",\n",
    "                \"Bồ Đào Nha, Açores nằm giữa nơi giao nhau của các mảng châu Phi, châu Âu và Bắc Mỹ, trên sống núi giữa Đại Tây Dương và gồm có chín đảo. Hai nhóm đảo đều có nguồn gốc núi lửa, hoạt động núi lửa và địa chấn lịch sử vẫn tồn tại cho đến ngày nay. Đỉnh cao nhất của Bồ Đào Nha là núi Pico trên đảo Pico thuộc Açores.\",\n",
    "                \"Châu Á, Đặc điểm của tổng địa hình châu Á là mặt đất lên xuống rất lớn, núi cao đỉnh lớn tụ tập ở khoảng giữa, núi, cao nguyên và gò đồi chiếm chừng 3/4 diện tích cả châu Á. Cả châu Á cách mặt phẳng nước biển trung bình 950 mét, là châu lục có địa thế cao nhất trên thế giới trừ châu Nam Cực ra. Cả châu Á về tổng quát lấy cao nguyên Pamir làm trung tâm, một loạt mạch núi cao lớn duỗi ra hướng về phía tây, mạch núi cao lớn nhất chính là mạch núi Himalaya.\",\n",
    "                \"Rừng hỗn hợp Balkan, Và những loài khác) thống trị hầu hết các khu rừng của vùng sinh thái, xen kẽ các sườn núi cao hơn (trên 800–1200 m). Sồi châu Âu và các loài cây lá kim như thông Scots, thông Bosnia, thông Macedonia, linh sam bạc và vân sam Na Uy. Các đỉnh núi cao nhất là nơi phân bố thảm thực vật vùng núi cao.\",\n",
    "                \"Dãy núi Cú mèo, Các đỉnh khác đạt tới độ cao từ khoảng đến mét trên mực nước biển.  Những tảng đá gneiss tiền Cambri thuộc dãy núi Cú mèo tạo thành phần cổ nhất của Sudetes và là một trong những loại lâu đời nhất ở châu Âu.\",\n",
    "                \"Sicilia, Đây là vùng có diện tích lớn nhất của Ý, nằm tại trung tâm của Địa Trung Hải, phía nam bán đảo Ý, tách khỏi lục địa qua eo biển Messina về phía đông bắc. Cảnh quan nổi bật nhất của Sicilia là núi Etna, đây là núi lửa hoạt động có độ cao lớn nhất tại châu Âu, và là một trong các núi lửa hoạt động mạnh nhất thế giới, có chiều cao hiện tại là 3.329 m. Vùng mang khí hậu Địa Trung Hải đặc trưng.\",\n",
    "                \"Vườn quốc gia Thung lũng Valbonë, Albania Alps là một tính năng địa lý đáng chú ý ở giữa phía Nam và Đông nam châu Âu. Dãy núi là phần cao nhất của dãy Dinaric Alps kéo dài ở phía đông Montenegro, phía tây Kosovo và phía bắc Albania. Sự hình thành của dãy núi là một quá trình từng phần gây ra bởi sự va chạm của hai mảng châu Phi và Á-Âu.\",\n",
    "                \"Shkhara, Núi nằm ở Gruzia. Nằm trong khu vực Svaneti dọc theo biên giới với Nga, Shkhara có cự ly 88 km (55 dặm) về phía bắc của thành phố Kutaisi, thành phố lớn thứ hai của Gruzia. Đỉnh núi nằm ở phần trung tâm của dãy núi Đại Kavkaz, phía đông nam của núi Elbrus, ngọn núi cao nhất của châu Âu.\",\n",
    "                \"Tây Ban Nha, Trong số các loài ăn thịt tiêu biểu nhất, chắc chắn là có linh miêu Iberia, là loài thuộc họ Mèo bị đe doạ lớn nhất tại châu Âu. Dê núi Iberia là một loài đặc hữu, nó phân bố rải rác trên bán đảo. Số lượng các loài chim tại bán đảo Iberia rất cao so với các hệ động vật châu Âu khác, một phần là do các loài chim từ Bắc Âu và châu Phi hạ Sahara đến trú đông hoặc làm tổ tại đây.\",\n",
    "                \"Monti Cimini, Điểm cao nhất của nó là Núi Cimino cao 1.053 m (3.455 ft) so với mực nước biển. Núi Cimino là một phần của Di sản thế giới Các khu rừng sồi nguyên sinh trên dãy Carpath và các khu vực khác của châu Âu được công nhận vào năm 2017. Hồ Vico là một hồ miệng núi lửa nằm tại Monti Cimini.\",\n",
    "                \"Dãy núi Karpat, Dãy núi Karpat Dãy núi Karpat hay dãy núi Carpat (; Séc, Ba Lan và Slovakia: \\\"Karpaty\\\"; Ukraina: \\\"Карпати\\\" (Karpaty); Đức: \\\"Karpaten\\\"; Serbia: \\\"Karpati\\\" / \\\"Карпати\\\"; Hungary: \\\"Kárpátok\\\") là một dãy núi tạo thành hình vòng cung dài khoảng 1.500 km ngang qua Trung Âu và Đông Âu, làm cho nó trở thành dãy núi lớn nhất tại châu Âu. Dãy núi này là nơi sinh sống của các quần thể gấu nâu, sói xám, sơn dương Chamois và linh miêu lớn nhất tại châu Âu, với mật độ cao nhất tại România cũng như của trên một phần ba các loài thực vật tại châu Âu.\",\n",
    "                \"Dãy núi Kavkaz,  Xác định vị trí địa lý. , Không có định nghĩa hay sự thống nhất rõ ràng về việc dãy núi Kavkaz là một phần của châu Âu hay một phần của châu Á. Phụ thuộc vào các cách nhìn nhận khác nhau mà đỉnh núi cao nhất châu Âu hoặc là Elbrus (5.642 m) hoặc là Mont Blanc tại dãy núi Alps, trên biên giới Pháp-Italia, với độ cao 4.810 m.\",\n",
    "                \"Dãy núi Kavkaz, Dãy núi Kavkaz Dãy núi Kavkaz, hoặc gọi mạch núi Cáp-ca (chữ Anh: Caucasus Mountains) là mạch núi phân chia giới hạn hai châu lục. Đỉnh núi cao nhất của nó là En-bơ-rút, chiều cao so với mức mặt biển của nó là 5.642 mét (18.510 dặm Anh), đồng thời cũng là đỉnh núi cao nhất ở châu Âu.\",\n",
    "                \"Dãy núi Kavkaz, Theo định nghĩa này, dãy núi Kavkaz là một phần của châu Á và như thế thì đỉnh núi cao nhất châu Âu sẽ là Mont Blanc. Ngược lại, La Grande Encyclopédie vẽ ranh giới giữa châu Âu và châu Á ở phía nam của cả hai dãy Đại và Tiểu Kavkaz. Như thế thì các đỉnh Elbrus và Kazbek đều là các đỉnh núi thuộc châu Âu.\",\n",
    "                \"Moskva, Moskva là nơi có số tỷ phú cao thứ ba của bất kỳ thành phố nào trên thế giới, và có số lượng tỷ phú cao nhất của bất kỳ thành phố nào ở Châu Âu. Trung tâm kinh doanh quốc tế Moskva là một trong những trung tâm tài chính lớn nhất của Châu Âu và thế giới, và có một số trong Những tòa nhà chọc trời cao nhất Châu Âu. Moskva cũng là quê hương của công trình kiến ​​trúc tự do cao nhất ở Châu Âu, Tháp Ostankino, và là thành phố đăng cai của Thế vận hội mùa hè 1980, một trong những thành phố đăng cai của FIFA World Cup 2018.\",\n",
    "                \"Rila, Rila Rila (, ) là một dãy núi ở tây nam Bulgaria, là dãy núi cao nhất Bulgaria và toàn Balkan, với đỉnh cao nhất là Musala (2.925 m). Đây cũng dãy núi cao thứ sáu châu Âu (nếu mỗi khối núi chỉ được đại diện bởi đỉnh cao nhất), sau Kavkaz, Alps, Sierra Nevada, Pyrénées và Núi Etna.\",\n",
    "                \"Mạng lưới Đường bộ Quốc tế châu Âu,  Tuyến đường châu Âu xa nhất về phía nam là E75, khi nó chạy trên đảo Crete, Hy Lạp ở 35 độ 6' Bắc.  Tuyến đường châu Âu xa nhất về phía đông là E127 khi chạy qua Maikapshagai, Kazakhstan ở 85 ° 36' Đông.  Tuyến đường châu Âu cao nhất là E008, ở độ cao 4.272 m (13.562 ft) trong dãy núi Pamir ở Tajikistan. \",\n",
    "                \"Kavkaz, Tất cả Armenia, Azerbaijan (trừ phần phía bắc) và Gruzia (không bao gồm các phần phía Bắc) nằm ở Nam Caucasus. Dãy núi Caucasus chính được xem là đường phân chia giữa châu Á và châu Âu. Đỉnh cao nhất ở vùng Caucasus là núi Elbrus (5.642 m) ở Tây Ciscaucas ở Nga, và thường được coi là điểm cao nhất ở châu Âu.\",\n",
    "                \"Đồng bằng châu Âu, Đồng bằng châu Âu Đồng bằng châu Âu là một đồng bằng tại châu Âu. Đây là vùng cảnh quan phi đồi núi lớn nhất tại châu Âu, mặc dù vậy, vẫn có một số cao nguyên được xác định là nằm trong đồng bằng.\",\n",
    "                \"Dãy núi Kavkaz, Trong thuật ngữ chính trị, phân chia ngày nay hoặc được coi là đường biên giới giữa Nga (châu Âu) ở một bên và Gruzia, Armenia cùng Azerbaijan (châu Á) ở bên kia, hoặc là đưa Gruzia và Azerbaijan vào trong châu Âu nhưng không đưa Armenia vào châu lục này, hoặc là đưa cả ba quốc gia này vào châu Âu.  Các đỉnh núi đáng chú ý. , Bảng dưới đây liệt kê một số đỉnh núi cao nhất tại dãy núi Kavkaz.\",\n",
    "                \"Núi Ólympos, Núi Ólympos Núi Ólympos (tiếng Hy Lạp: Όλυμπος) hay núi Olympus hoặc Óros Ólimbos, còn gọi là Núi Ô Lim, là ngọn núi cao nhất tại Hy Lạp với độ cao 2.919 m (9.577 ft). Do chân núi nằm gần như ngang với mực nước biển, nên nó là một trong những ngọn núi cao nhất tại châu Âu khi tính theo độ cao tương đối từ chân tới đỉnh.\",\n",
    "                \"Tây Kavkaz, Nó được biết đến như là khu vực núi cao rộng lớn duy nhất của châu Âu không chịu sự tác động đáng kể nào của con người. Một loạt các môi trường sống thay đổi liên tục trong khu vực diện tích nhỏ, từ vùng đất thấp cho đến những đỉnh núi cao, sông băng. Khu vực này cách khoảng 50 km về phía băc thành phố nghỉ mát Sochi. \",\n",
    "                \"Núi Etna, Đây là núi lửa còn hoạt động cao nhất châu Âu ngoài Kavkaz, với độ cao hiện tại là , dù số đo này thay đổi sau mỗi lần phun trào. Etna là đỉnh cao nhất nước Ý nằm ngoài dãy Alps. Etna có diện tích , với chu vi chân núi 140 km, khiến nó trở thành núi lớn nhất trong ba núi lửa còn hoạt động của Ý, gấp 2,5 lần ngọn núi đứng ngay sau nó là Núi Vesuvius.\",\n",
    "                \"Richard Bass,  Leo núi. , Cùng với Frank Wells, chủ tịch một thời của hãng Walt Disney, Bass tham gia vào thách thức phiêu lưu chinh phục những đỉnh cao của châu lục: Denali, Bắc Mỹ; Aconcagua, Nam Mỹ; Núi Elbrus, châu Âu; Núi Kilimanjaro, châu Phi; Vinson Massif, châu Nam Cực; Núi Kosciuszko, Australia; và Núi Everest, châu Á.  Bass trở thành người đầu tiên chinh phục tất cả Seven Summits (đỉnh cao nhất của mỗi châu lục) vào ngày 30 tháng 4 năm 1985.\",\n",
    "                \"Đồng bằng Đông Âu, Đây là phần cảnh quan phi đồi núi lớn nhất châu Âu. Đồng bằng trải rộng khoảng và có độ cao trung bình là . Điểm cao nhất của đồng bằng nằm tại Vùng đồi Valdai với cao độ .\",\n",
    "                \"Bảy đỉnh núi cao nhất mỗi châu lục, Bảy đỉnh núi cao nhất mỗi châu lục Bảy đỉnh núi cao nhất mỗi châu lục là các núi cao nhất trong bảy châu lục. Việc leo lên tất cả các đỉnh núi này được xem là một thách thức đối với môn thể thao leo núi, người đầu tiên đạt được kỷ lục này vào ngày 30 tháng 4 năm 1985 là Richard Bass.Bảy đỉnh cao mỗi châu lục gồm có các đỉnh núi cao nhất của mỗi bảy châu lục.\",\n",
    "                \"Musala, Nó nằm trong dãy Rila ở tây nam Bulgaria. \\\"Musala\\\" cũng là đỉnh cao nhất trên bán đảo Balkan, cao nhất ở dải giữa dãy Alps và vùng Kavkaz . Với độ cao trội (tầm cao từ chân núi) là 2473 m, Musala là đỉnh núi cao thứ 7 ở Châu Âu .\",\n",
    "                \"Tehran, Có hai thang máy trượt tuyết trên ghế ở Tochal đạt độ cao 3.900 mét (12.800 feet) gần đỉnh Tochal (ở độ cao 4.000 m / 13.000 ft), cao hơn trạm thứ 7 của gondola, cao hơn bất kỳ khu nghỉ mát trượt tuyết nào của Châu Âu. Từ đỉnh Tochal, có tầm nhìn ra dãy núi Alborz, bao gồm núi Damavand cao 5.610 mét, một ngọn núi lửa đã ngừng hoạt động. Tehran có sân vận động Azadi, sân vận động lớn nhất ở Tây Á, nơi có nhiều trận đấu hàng đầu của giải Ngoại hạng của Iran và cũng là sân nhà của đội tuyển bóng đá quốc gia Iran.\",\n",
    "                \"Kavkaz, Kavkaz Kavkaz (tiếng Armenia: Կովկաս, tiếng Azerbaijan: Qafqaz, tiếng Gruzia: კავკასია (K'avk'asia), tiếng Nga: Кавка́з, tiếng Adygea: Къэфкъас, tiếng Ossetia: Кавказ, tiếng Chechnya: Кавказ) là một khu vực địa lý nằm ở biên giới giữa châu Á và châu Âu, chủ yếu là trên lãnh thổ Gruzia, Azerbaijan, Armenia và một phần ở Nam Nga. Nơi đây có dãy núi Kavkaz, bao gồm ngọn núi cao nhất châu Âu là núi Elbrus.\",\n",
    "                \"Núi Bà Đen, , Bức tượng với tổng chiều cao 72m, được đúc bởi hơn 170 tấn đồng đỏ theo kỹ thuật công nghệ gia công cơ khí áp lực cao của Châu Âu, tượng Phật Bà Tây Bổ Đà Sơn tại Tây Ninh đã xác lập kỷ lục \\\"Tượng Phật Bà bằng đồng cao nhất Châu Á tọa lạc trên đỉnh núi\\\" và \\\"Tượng Phật Bà bằng đồng cao nhất Việt Nam tọa lạc trên đỉnh núi\\\".  Leo núi Bà Đen. , Có hai con đường lên đỉnh Bà Đen: một là đường mòn nằm sau lưng chùa Bà, đường này xấu, khó đi.\",\n",
    "                \"Dãy núi Rhodope, Dãy núi Rhodope Rhodopes (; , \\\"Rodopi\\\"; , \\\"Rodopi\\\"; ) là một dãy núi ở Đông Nam châu Âu, hơn 83% diện tích nằm ở miền nam Bulgaria và phần còn lại ở Hy Lạp. Đỉnh cao nhất là ở Golyam Perelik (), ngọn núi cao thứ 7 ở Bulgaria.\",\n",
    "                \"Dãy núi Świętokrzyskie, Dãy núi Świętokrzyskie Dãy núi Świętokrzyskie (hay còn được gọi là dãy núi Holy Cross) là một dãy núi nằm ở miền trung Ba Lan, gần thành phố Kielce. Dãy núi Świętokrzyskie là một trong những dãy núi lâu đời nhất ở châu Âu, đồng thời nó cũng là dãy núi cao nhất giữa hai dãy núi Sudetes và Ural.\",\n",
    "                \"Sicilia, Núi Etna là núi lửa hoạt động có kích cỡ lớn nhất tại châu Âu và vẫn phun tro đen khắp đảo trong các vụ phun trào thường xuyên của nó. Hiện nay, núi lửa này cao 3.329 m song nó sẽ thay đổi sau các vụ phun trào từ đỉnh; núi hiện thấp hơn 21 m so với độ cao vào năm 1981. Đây là núi cao nhất tại phần phía nam dãy Alpes của Ý.\",\n",
    "                \"Elbrus, Elbrus Đỉnh Elbrus (tiếng Nga: Эльбрус) là một đỉnh núi nằm ở miền tây dãy núi Kavkaz, tại nước cộng hòa tự trị Kabardino-Balkaria thuộc Liên bang Nga, gần biên giới với Gruzia. Một núi lửa đã không hoạt động kể từ khoảng 2.000 năm trước, nó là đỉnh núi cao nhất trong dãy Kavkaz, phần thuộc về châu Âu (nếu biên giới giữa châu Âu và châu Á được coi là nằm ở phía nam đỉnh Elbrus - tại khu vực sông Kura và Qvirila).\",\n",
    "                \"Núi Alam-Kuh, Mặt đá hoa cương ở phía bắc cao 800 mét, cung cấp một số các tuyến leo núi khó khăn và thú vị nhất ở nước này tương đương với các tuyến leo núi chính ở dãy núi Alps ở châu Âu. Ngoài các nhà leo núi địa phương, mặt phía Bắc thu hút các đội leo núi châu Âu. Sự xuất hiện đầu tiên được biết đến từ phía bắc là bởi một toán người Đức (Gorter / Steinauer) vào năm 1936 qua ngọn núi tây bắc.\",\n",
    "                \"Dãy núi Balkan, Dãy núi Balkan Dãy Balkan là dãy núi nằm ở châu âu ở Bán đảo Balkan.Kéo dài từ phía tây của Serbia đến Biển Đen.Phần lớn nhất của nó nằm ở Bulgaria và chia nước này thành hai phần bắc nam. Đỉnh núi cao nhất của nó là Botev\",\n",
    "                \"Vườn quốc gia Prielbrusye, Cao hơn là một vành đai mỏng của các loài cây lá rộng và cây bui núi cao. Cao hơn nữa là đồng cỏ núi cao và cuối cùng là tuyết, đá và băng đá ở khu vực cao nhất. Động vật có vú phổ biến nhất là sói thảo nguyên, chó rừng châu Âu, cáo đỏ, linh miêu Kavkaz, lợn rừng và gấu nâu Syria. \",\n",
    "                \"Nga, Phần lớn đất đai Nga là các đồng bằng rộng lớn, ở cả châu Âu và châu Á, được biết đến như là Siberia. Các đồng bằng này chủ yếu là thảo nguyên về phía nam và rừng rậm về phía bắc, với các tundra (lãnh nguyên) dọc theo bờ biển phía bắc. Các dãy núi chủ yếu nằm ở biên giới phía nam, chẳng hạn như Kavkaz (ở đây có đỉnh Elbrus, là điểm cao nhất thuộc Nga và châu Âu với cao độ 5,633 m) và dãy núi Altai, cũng như ở phần phía đông, chẳng hạn như dãy Verkhoyansk hoặc các núi lửa trên Kamchatka.\",\n",
    "                \"Núi, Theo quan niệm của các nhà nghiên cứu thì núi cao hơn đồi. Theo bách khoa toàn thư Britannica, núi có chiều cao từ 500 m trở lên. Núi là dạng địa hình phổ biến của Trái Đất, chiếm 52% diện tích châu Á, 36% Bắc Mỹ, 25% châu Âu, 22% nam Mỹ, 17% của Australia, khoảng 33% bề mặt châu Âu và 24% bề mặt Trái Đất.\",\n",
    "                \"Chủ nghĩa vô thần, Một cuộc thăm dò vào tháng 11-12 năm 2006 được công bố tại báo \\\"Financial Times\\\" đưa ra các tỷ lệ tại Hoa Kỳ và 5 nước châu Âu. Theo đó, tỷ lệ người Mỹ nói rằng mình có một đức tin nào đó vào thượng đế hay đấng tối cao là 73% và cao hơn tỷ lệ tương ứng của châu Âu. Còn đối với những người trưởng thành được thăm dò ý kiến ở châu Âu, nước Ý có tỷ lệ thể hiện đức tin cao nhất (62%), còn Pháp có tỷ lệ thấp nhất (27%).\",\n",
    "                \"Cầu cạn Millau,  Sàn cầu cao cạn cao nhất thế giới, cao 270 m trên sông Tarn tại điểm cao nhất. Nó gần như gấp đôi chiều cao của cầu cao nhất trước đó ở châu Âu, Europabrücke ở Áo. Nó hơi cao hơn Cầu hẻm núi sông New ở Tây Virginia ở Hoa Kỳ, với chiều cao 267m trên Sông New.\",\n",
    "                \"Núi Kilimanjaro, Núi Kilimanjaro Kilimanjaro với 3 chóp núi lửa hình nón, Kibo, Mawensi và Shira, là một núi lửa dạng tầng không hoạt động ở đông bắc Tanzania. Mặc dù không phải là núi cao nhất, nhưng Kilimanjaro lại là ngọn núi đứng một mình cao nhất thế giới với độ cao từ chân núi, và là đỉnh núi cao nhất châu Phi với độ cao 5.895 m (19.340 ft) và cao thứ 4 trong số 7 đỉnh cao nhất theo từng châu lục trên thế giới.\",\n",
    "                \"Montenegro, Các ngọn núi tạo thành địa hình nước này gồ ghề nhất ở châu Âu, độ cao trung bình của các ngon núi ở Montenegro cao hơn 2.000 mét. Một trong những đỉnh núi đáng chú ý là Bobotov Kuk ở vùng núi Durmitor, đạt đến độ cao 2.522 mét. Các dãy núi ở Montenegrin hình thành do băng bị xói mòn ở các bộ phận của bán đảo Balkan trong thời kỳ băng hà cuối cùng.\",\n",
    "                \"Kebnekaise, Sông băng đã rút cạn trong những năm gần đây, do đó đỉnh phía nam không còn cao như trước. Khối núi gắn liền với Kebnepakteglaciären, Isfallsglaciären và Storglaciären về phía thung lũng Tarfala ở phía đông, sông băng Björlings ở phía đông nam, và Rabots glaciär ở phía tây. Ở châu Âu không có ngọn núi nào cao hơn về phía bắc.\",\n",
    "                \"Hẻm núi Sićevo,  Lịch sử. , Ngay từ buổi đầu lịch sử, hẻm núi Sićevo đã nằm trên giao lộ giữa châu Âu với châu Á và châu Phi, là nơi chứng kiến ảnh hưởng của phát triển xã hội và quan hệ kinh tế thời xưa. Các tuyến đường cao tốc châu Âu ở Balkan đi qua hẻm núi Sićevo ngày nay bắt đầu từ con đường Via militaris thời La Mã và Byzantium, phát triển thành \\\"Đường đến Constantinopolis\\\" thời Ottoman cho đến cao tốc xuyên châu Âu tuyến E-75 và nhánh E-80 phía đông vào thế kỷ 21.\",\n",
    "                \"Đèo Champex,  Xem thêm. , Danh sách những con đường trải nhựa cao nhất châu Âu.  Danh sách những đèo núi.\",\n",
    "                \"Cảnh quan thiên nhiên, \\\" Ở đây, ông bẻ cong phần nào nghĩa từ điển thông thường của hoang dã, để nhấn mạnh rằng không có gì tự nhiên, ngay cả trong một khu vườn, hoàn toàn dưới sự kiểm soát của con người.  Châu Âu. , Cảnh quan của châu Âu đã thay đổi đáng kể bởi con người và ngay cả trong một khu vực, như Dãy núi Cairngorm của Scotland, với mật độ dân số thấp, chỉ có \\\"những đỉnh cao của Dãy núi Cairngorm, hoàn toàn bao gồm các yếu tố tự nhiên.\",\n",
    "                \"Luân Đôn, Thành phố có giá bất động sản cao nhất của bất kỳ thành phố châu Âu nào theo Văn phòng thống kê quốc gia và Văn phòng thống kê châu Âu. Trung bình giá mỗi mét vuông ở trung tâm Luân Đôn là € 24,252 (tháng 4 năm 2014). Giá này cao hơn giá bất động sản ở các thành phố thủ đô G8 khác của châu Âu; Berlin € 3,306, Rome € 6,188 và Paris € 11,229.\",\n",
    "                \"Danh sách tòa nhà cao nhất châu Âu, Danh sách tòa nhà cao nhất châu Âu Đây là danh sách tòa nhà cao nhất Châu Âu, xếp hạng tòa nhà chọc trời có chiều cao từ trở lên. Tòa nhà cao nhất Châu Âu hiện nay là Lakhta Center (Tiếng Nga: Лахта центр), cao 462,5 m (1.519 ft) với 87 tầng, tòa nhà được xây dựng năm 2012 ở phía bắc thành phố Saint Petersburg và được hoàn thành vào năm 2018.\",\n",
    "                \"Samos, Núi Kerkis, nhỏ hơn về diện tích song lại cao hơn và đỉnh cao nhất đạt . Những ngọn núi này là sự nối tiếp của dãy Mycale trên đại lục Tiểu Á. Samos là một trong những nơi nhiều nắng nhất tại châu Âu với khoảng 3300 giờ nắng trung bình hay 74% tổng số thời gian ban ngày.\",\n",
    "                \"Danh sách dãy núi ở Ba Lan, Dãy núi Świętokrzyskie, một trong những dãy núi lâu đời nhất ở châu Âu, nằm ở miền trung Ba Lan, trong vùng lân cận của thành phố Kielce. Dãy núi bao gồm một số dãy núi riêng biệt, trong đó cao nhất làLysogóryóry (\\\"vùng núi hói\\\"). Cùng với Jura Krakowsko-Częstochowska, những ngọn núi tạo thành một khu vực được gọi là Vùng thượng du nhỏ Ba Lan (\\\"Wyżyna Małopolska\\\").\",\n",
    "                \"Bồ Đào Nha, Açores nằm giữa nơi giao nhau của các mảng châu Phi, châu Âu và Bắc Mỹ, trên sống núi giữa Đại Tây Dương và gồm có chín đảo. Hai nhóm đảo đều có nguồn gốc núi lửa, hoạt động núi lửa và địa chấn lịch sử vẫn tồn tại cho đến ngày nay. Đỉnh cao nhất của Bồ Đào Nha là núi Pico trên đảo Pico thuộc Açores.\",\n",
    "                \"Châu Á, Đặc điểm của tổng địa hình châu Á là mặt đất lên xuống rất lớn, núi cao đỉnh lớn tụ tập ở khoảng giữa, núi, cao nguyên và gò đồi chiếm chừng 3/4 diện tích cả châu Á. Cả châu Á cách mặt phẳng nước biển trung bình 950 mét, là châu lục có địa thế cao nhất trên thế giới trừ châu Nam Cực ra. Cả châu Á về tổng quát lấy cao nguyên Pamir làm trung tâm, một loạt mạch núi cao lớn duỗi ra hướng về phía tây, mạch núi cao lớn nhất chính là mạch núi Himalaya.\",\n",
    "                \"Rừng hỗn hợp Balkan, Và những loài khác) thống trị hầu hết các khu rừng của vùng sinh thái, xen kẽ các sườn núi cao hơn (trên 800–1200 m). Sồi châu Âu và các loài cây lá kim như thông Scots, thông Bosnia, thông Macedonia, linh sam bạc và vân sam Na Uy. Các đỉnh núi cao nhất là nơi phân bố thảm thực vật vùng núi cao.\",\n",
    "                \"Dãy núi Cú mèo, Các đỉnh khác đạt tới độ cao từ khoảng đến mét trên mực nước biển.  Những tảng đá gneiss tiền Cambri thuộc dãy núi Cú mèo tạo thành phần cổ nhất của Sudetes và là một trong những loại lâu đời nhất ở châu Âu.\",\n",
    "                \"Sicilia, Đây là vùng có diện tích lớn nhất của Ý, nằm tại trung tâm của Địa Trung Hải, phía nam bán đảo Ý, tách khỏi lục địa qua eo biển Messina về phía đông bắc. Cảnh quan nổi bật nhất của Sicilia là núi Etna, đây là núi lửa hoạt động có độ cao lớn nhất tại châu Âu, và là một trong các núi lửa hoạt động mạnh nhất thế giới, có chiều cao hiện tại là 3.329 m. Vùng mang khí hậu Địa Trung Hải đặc trưng.\",\n",
    "                \"Vườn quốc gia Thung lũng Valbonë, Albania Alps là một tính năng địa lý đáng chú ý ở giữa phía Nam và Đông nam châu Âu. Dãy núi là phần cao nhất của dãy Dinaric Alps kéo dài ở phía đông Montenegro, phía tây Kosovo và phía bắc Albania. Sự hình thành của dãy núi là một quá trình từng phần gây ra bởi sự va chạm của hai mảng châu Phi và Á-Âu.\",\n",
    "                \"Shkhara, Núi nằm ở Gruzia. Nằm trong khu vực Svaneti dọc theo biên giới với Nga, Shkhara có cự ly 88 km (55 dặm) về phía bắc của thành phố Kutaisi, thành phố lớn thứ hai của Gruzia. Đỉnh núi nằm ở phần trung tâm của dãy núi Đại Kavkaz, phía đông nam của núi Elbrus, ngọn núi cao nhất của châu Âu.\",\n",
    "                \"Tây Ban Nha, Trong số các loài ăn thịt tiêu biểu nhất, chắc chắn là có linh miêu Iberia, là loài thuộc họ Mèo bị đe doạ lớn nhất tại châu Âu. Dê núi Iberia là một loài đặc hữu, nó phân bố rải rác trên bán đảo. Số lượng các loài chim tại bán đảo Iberia rất cao so với các hệ động vật châu Âu khác, một phần là do các loài chim từ Bắc Âu và châu Phi hạ Sahara đến trú đông hoặc làm tổ tại đây.\",\n",
    "                \"Monti Cimini, Điểm cao nhất của nó là Núi Cimino cao 1.053 m (3.455 ft) so với mực nước biển. Núi Cimino là một phần của Di sản thế giới Các khu rừng sồi nguyên sinh trên dãy Carpath và các khu vực khác của châu Âu được công nhận vào năm 2017. Hồ Vico là một hồ miệng núi lửa nằm tại Monti Cimini.\",\n",
    "                \"Dãy núi Karpat, Dãy núi Karpat Dãy núi Karpat hay dãy núi Carpat (; Séc, Ba Lan và Slovakia: \\\"Karpaty\\\"; Ukraina: \\\"Карпати\\\" (Karpaty); Đức: \\\"Karpaten\\\"; Serbia: \\\"Karpati\\\" / \\\"Карпати\\\"; Hungary: \\\"Kárpátok\\\") là một dãy núi tạo thành hình vòng cung dài khoảng 1.500 km ngang qua Trung Âu và Đông Âu, làm cho nó trở thành dãy núi lớn nhất tại châu Âu. Dãy núi này là nơi sinh sống của các quần thể gấu nâu, sói xám, sơn dương Chamois và linh miêu lớn nhất tại châu Âu, với mật độ cao nhất tại România cũng như của trên một phần ba các loài thực vật tại châu Âu.\",\n",
    "                \"Dãy núi Kavkaz,  Xác định vị trí địa lý. , Không có định nghĩa hay sự thống nhất rõ ràng về việc dãy núi Kavkaz là một phần của châu Âu hay một phần của châu Á. Phụ thuộc vào các cách nhìn nhận khác nhau mà đỉnh núi cao nhất châu Âu hoặc là Elbrus (5.642 m) hoặc là Mont Blanc tại dãy núi Alps, trên biên giới Pháp-Italia, với độ cao 4.810 m.\",\n",
    "                \"Dãy núi Kavkaz, Dãy núi Kavkaz Dãy núi Kavkaz, hoặc gọi mạch núi Cáp-ca (chữ Anh: Caucasus Mountains) là mạch núi phân chia giới hạn hai châu lục. Đỉnh núi cao nhất của nó là En-bơ-rút, chiều cao so với mức mặt biển của nó là 5.642 mét (18.510 dặm Anh), đồng thời cũng là đỉnh núi cao nhất ở châu Âu.\",\n",
    "                \"Dãy núi Kavkaz, Theo định nghĩa này, dãy núi Kavkaz là một phần của châu Á và như thế thì đỉnh núi cao nhất châu Âu sẽ là Mont Blanc. Ngược lại, La Grande Encyclopédie vẽ ranh giới giữa châu Âu và châu Á ở phía nam của cả hai dãy Đại và Tiểu Kavkaz. Như thế thì các đỉnh Elbrus và Kazbek đều là các đỉnh núi thuộc châu Âu.\",\n",
    "                \"Moskva, Moskva là nơi có số tỷ phú cao thứ ba của bất kỳ thành phố nào trên thế giới, và có số lượng tỷ phú cao nhất của bất kỳ thành phố nào ở Châu Âu. Trung tâm kinh doanh quốc tế Moskva là một trong những trung tâm tài chính lớn nhất của Châu Âu và thế giới, và có một số trong Những tòa nhà chọc trời cao nhất Châu Âu. Moskva cũng là quê hương của công trình kiến ​​trúc tự do cao nhất ở Châu Âu, Tháp Ostankino, và là thành phố đăng cai của Thế vận hội mùa hè 1980, một trong những thành phố đăng cai của FIFA World Cup 2018.\",\n",
    "                \"Rila, Rila Rila (, ) là một dãy núi ở tây nam Bulgaria, là dãy núi cao nhất Bulgaria và toàn Balkan, với đỉnh cao nhất là Musala (2.925 m). Đây cũng dãy núi cao thứ sáu châu Âu (nếu mỗi khối núi chỉ được đại diện bởi đỉnh cao nhất), sau Kavkaz, Alps, Sierra Nevada, Pyrénées và Núi Etna.\",\n",
    "                \"Mạng lưới Đường bộ Quốc tế châu Âu,  Tuyến đường châu Âu xa nhất về phía nam là E75, khi nó chạy trên đảo Crete, Hy Lạp ở 35 độ 6' Bắc.  Tuyến đường châu Âu xa nhất về phía đông là E127 khi chạy qua Maikapshagai, Kazakhstan ở 85 ° 36' Đông.  Tuyến đường châu Âu cao nhất là E008, ở độ cao 4.272 m (13.562 ft) trong dãy núi Pamir ở Tajikistan. \",\n",
    "                \"Kavkaz, Tất cả Armenia, Azerbaijan (trừ phần phía bắc) và Gruzia (không bao gồm các phần phía Bắc) nằm ở Nam Caucasus. Dãy núi Caucasus chính được xem là đường phân chia giữa châu Á và châu Âu. Đỉnh cao nhất ở vùng Caucasus là núi Elbrus (5.642 m) ở Tây Ciscaucas ở Nga, và thường được coi là điểm cao nhất ở châu Âu.\",\n",
    "                \"Đồng bằng châu Âu, Đồng bằng châu Âu Đồng bằng châu Âu là một đồng bằng tại châu Âu. Đây là vùng cảnh quan phi đồi núi lớn nhất tại châu Âu, mặc dù vậy, vẫn có một số cao nguyên được xác định là nằm trong đồng bằng.\",\n",
    "                \"Dãy núi Kavkaz, Trong thuật ngữ chính trị, phân chia ngày nay hoặc được coi là đường biên giới giữa Nga (châu Âu) ở một bên và Gruzia, Armenia cùng Azerbaijan (châu Á) ở bên kia, hoặc là đưa Gruzia và Azerbaijan vào trong châu Âu nhưng không đưa Armenia vào châu lục này, hoặc là đưa cả ba quốc gia này vào châu Âu.  Các đỉnh núi đáng chú ý. , Bảng dưới đây liệt kê một số đỉnh núi cao nhất tại dãy núi Kavkaz.\",\n",
    "                \"Núi Ólympos, Núi Ólympos Núi Ólympos (tiếng Hy Lạp: Όλυμπος) hay núi Olympus hoặc Óros Ólimbos, còn gọi là Núi Ô Lim, là ngọn núi cao nhất tại Hy Lạp với độ cao 2.919 m (9.577 ft). Do chân núi nằm gần như ngang với mực nước biển, nên nó là một trong những ngọn núi cao nhất tại châu Âu khi tính theo độ cao tương đối từ chân tới đỉnh.\",\n",
    "                \"Tây Kavkaz, Nó được biết đến như là khu vực núi cao rộng lớn duy nhất của châu Âu không chịu sự tác động đáng kể nào của con người. Một loạt các môi trường sống thay đổi liên tục trong khu vực diện tích nhỏ, từ vùng đất thấp cho đến những đỉnh núi cao, sông băng. Khu vực này cách khoảng 50 km về phía băc thành phố nghỉ mát Sochi. \",\n",
    "                \"Núi Etna, Đây là núi lửa còn hoạt động cao nhất châu Âu ngoài Kavkaz, với độ cao hiện tại là , dù số đo này thay đổi sau mỗi lần phun trào. Etna là đỉnh cao nhất nước Ý nằm ngoài dãy Alps. Etna có diện tích , với chu vi chân núi 140 km, khiến nó trở thành núi lớn nhất trong ba núi lửa còn hoạt động của Ý, gấp 2,5 lần ngọn núi đứng ngay sau nó là Núi Vesuvius.\",\n",
    "                \"Richard Bass,  Leo núi. , Cùng với Frank Wells, chủ tịch một thời của hãng Walt Disney, Bass tham gia vào thách thức phiêu lưu chinh phục những đỉnh cao của châu lục: Denali, Bắc Mỹ; Aconcagua, Nam Mỹ; Núi Elbrus, châu Âu; Núi Kilimanjaro, châu Phi; Vinson Massif, châu Nam Cực; Núi Kosciuszko, Australia; và Núi Everest, châu Á.  Bass trở thành người đầu tiên chinh phục tất cả Seven Summits (đỉnh cao nhất của mỗi châu lục) vào ngày 30 tháng 4 năm 1985.\",\n",
    "                \"Đồng bằng Đông Âu, Đây là phần cảnh quan phi đồi núi lớn nhất châu Âu. Đồng bằng trải rộng khoảng và có độ cao trung bình là . Điểm cao nhất của đồng bằng nằm tại Vùng đồi Valdai với cao độ .\",\n",
    "                \"Bảy đỉnh núi cao nhất mỗi châu lục, Bảy đỉnh núi cao nhất mỗi châu lục Bảy đỉnh núi cao nhất mỗi châu lục là các núi cao nhất trong bảy châu lục. Việc leo lên tất cả các đỉnh núi này được xem là một thách thức đối với môn thể thao leo núi, người đầu tiên đạt được kỷ lục này vào ngày 30 tháng 4 năm 1985 là Richard Bass.Bảy đỉnh cao mỗi châu lục gồm có các đỉnh núi cao nhất của mỗi bảy châu lục.\",\n",
    "                \"Musala, Nó nằm trong dãy Rila ở tây nam Bulgaria. \\\"Musala\\\" cũng là đỉnh cao nhất trên bán đảo Balkan, cao nhất ở dải giữa dãy Alps và vùng Kavkaz . Với độ cao trội (tầm cao từ chân núi) là 2473 m, Musala là đỉnh núi cao thứ 7 ở Châu Âu .\",\n",
    "                \"Tehran, Có hai thang máy trượt tuyết trên ghế ở Tochal đạt độ cao 3.900 mét (12.800 feet) gần đỉnh Tochal (ở độ cao 4.000 m / 13.000 ft), cao hơn trạm thứ 7 của gondola, cao hơn bất kỳ khu nghỉ mát trượt tuyết nào của Châu Âu. Từ đỉnh Tochal, có tầm nhìn ra dãy núi Alborz, bao gồm núi Damavand cao 5.610 mét, một ngọn núi lửa đã ngừng hoạt động. Tehran có sân vận động Azadi, sân vận động lớn nhất ở Tây Á, nơi có nhiều trận đấu hàng đầu của giải Ngoại hạng của Iran và cũng là sân nhà của đội tuyển bóng đá quốc gia Iran.\",\n",
    "                \"Kavkaz, Kavkaz Kavkaz (tiếng Armenia: Կովկաս, tiếng Azerbaijan: Qafqaz, tiếng Gruzia: კავკასია (K'avk'asia), tiếng Nga: Кавка́з, tiếng Adygea: Къэфкъас, tiếng Ossetia: Кавказ, tiếng Chechnya: Кавказ) là một khu vực địa lý nằm ở biên giới giữa châu Á và châu Âu, chủ yếu là trên lãnh thổ Gruzia, Azerbaijan, Armenia và một phần ở Nam Nga. Nơi đây có dãy núi Kavkaz, bao gồm ngọn núi cao nhất châu Âu là núi Elbrus.\",\n",
    "                \"Núi Bà Đen, , Bức tượng với tổng chiều cao 72m, được đúc bởi hơn 170 tấn đồng đỏ theo kỹ thuật công nghệ gia công cơ khí áp lực cao của Châu Âu, tượng Phật Bà Tây Bổ Đà Sơn tại Tây Ninh đã xác lập kỷ lục \\\"Tượng Phật Bà bằng đồng cao nhất Châu Á tọa lạc trên đỉnh núi\\\" và \\\"Tượng Phật Bà bằng đồng cao nhất Việt Nam tọa lạc trên đỉnh núi\\\".  Leo núi Bà Đen. , Có hai con đường lên đỉnh Bà Đen: một là đường mòn nằm sau lưng chùa Bà, đường này xấu, khó đi.\",\n",
    "                \"Dãy núi Rhodope, Dãy núi Rhodope Rhodopes (; , \\\"Rodopi\\\"; , \\\"Rodopi\\\"; ) là một dãy núi ở Đông Nam châu Âu, hơn 83% diện tích nằm ở miền nam Bulgaria và phần còn lại ở Hy Lạp. Đỉnh cao nhất là ở Golyam Perelik (), ngọn núi cao thứ 7 ở Bulgaria.\",\n",
    "                \"Dãy núi Świętokrzyskie, Dãy núi Świętokrzyskie Dãy núi Świętokrzyskie (hay còn được gọi là dãy núi Holy Cross) là một dãy núi nằm ở miền trung Ba Lan, gần thành phố Kielce. Dãy núi Świętokrzyskie là một trong những dãy núi lâu đời nhất ở châu Âu, đồng thời nó cũng là dãy núi cao nhất giữa hai dãy núi Sudetes và Ural.\",\n",
    "                \"Sicilia, Núi Etna là núi lửa hoạt động có kích cỡ lớn nhất tại châu Âu và vẫn phun tro đen khắp đảo trong các vụ phun trào thường xuyên của nó. Hiện nay, núi lửa này cao 3.329 m song nó sẽ thay đổi sau các vụ phun trào từ đỉnh; núi hiện thấp hơn 21 m so với độ cao vào năm 1981. Đây là núi cao nhất tại phần phía nam dãy Alpes của Ý.\",\n",
    "                \"Elbrus, Elbrus Đỉnh Elbrus (tiếng Nga: Эльбрус) là một đỉnh núi nằm ở miền tây dãy núi Kavkaz, tại nước cộng hòa tự trị Kabardino-Balkaria thuộc Liên bang Nga, gần biên giới với Gruzia. Một núi lửa đã không hoạt động kể từ khoảng 2.000 năm trước, nó là đỉnh núi cao nhất trong dãy Kavkaz, phần thuộc về châu Âu (nếu biên giới giữa châu Âu và châu Á được coi là nằm ở phía nam đỉnh Elbrus - tại khu vực sông Kura và Qvirila).\",\n",
    "                \"Núi Alam-Kuh, Mặt đá hoa cương ở phía bắc cao 800 mét, cung cấp một số các tuyến leo núi khó khăn và thú vị nhất ở nước này tương đương với các tuyến leo núi chính ở dãy núi Alps ở châu Âu. Ngoài các nhà leo núi địa phương, mặt phía Bắc thu hút các đội leo núi châu Âu. Sự xuất hiện đầu tiên được biết đến từ phía bắc là bởi một toán người Đức (Gorter / Steinauer) vào năm 1936 qua ngọn núi tây bắc.\",\n",
    "                \"Dãy núi Balkan, Dãy núi Balkan Dãy Balkan là dãy núi nằm ở châu âu ở Bán đảo Balkan.Kéo dài từ phía tây của Serbia đến Biển Đen.Phần lớn nhất của nó nằm ở Bulgaria và chia nước này thành hai phần bắc nam. Đỉnh núi cao nhất của nó là Botev\",\n",
    "                \"Vườn quốc gia Prielbrusye, Cao hơn là một vành đai mỏng của các loài cây lá rộng và cây bui núi cao. Cao hơn nữa là đồng cỏ núi cao và cuối cùng là tuyết, đá và băng đá ở khu vực cao nhất. Động vật có vú phổ biến nhất là sói thảo nguyên, chó rừng châu Âu, cáo đỏ, linh miêu Kavkaz, lợn rừng và gấu nâu Syria. \",\n",
    "                \"Nga, Phần lớn đất đai Nga là các đồng bằng rộng lớn, ở cả châu Âu và châu Á, được biết đến như là Siberia. Các đồng bằng này chủ yếu là thảo nguyên về phía nam và rừng rậm về phía bắc, với các tundra (lãnh nguyên) dọc theo bờ biển phía bắc. Các dãy núi chủ yếu nằm ở biên giới phía nam, chẳng hạn như Kavkaz (ở đây có đỉnh Elbrus, là điểm cao nhất thuộc Nga và châu Âu với cao độ 5,633 m) và dãy núi Altai, cũng như ở phần phía đông, chẳng hạn như dãy Verkhoyansk hoặc các núi lửa trên Kamchatka.\",\n",
    "                \"Núi, Theo quan niệm của các nhà nghiên cứu thì núi cao hơn đồi. Theo bách khoa toàn thư Britannica, núi có chiều cao từ 500 m trở lên. Núi là dạng địa hình phổ biến của Trái Đất, chiếm 52% diện tích châu Á, 36% Bắc Mỹ, 25% châu Âu, 22% nam Mỹ, 17% của Australia, khoảng 33% bề mặt châu Âu và 24% bề mặt Trái Đất.\",\n",
    "                \"Chủ nghĩa vô thần, Một cuộc thăm dò vào tháng 11-12 năm 2006 được công bố tại báo \\\"Financial Times\\\" đưa ra các tỷ lệ tại Hoa Kỳ và 5 nước châu Âu. Theo đó, tỷ lệ người Mỹ nói rằng mình có một đức tin nào đó vào thượng đế hay đấng tối cao là 73% và cao hơn tỷ lệ tương ứng của châu Âu. Còn đối với những người trưởng thành được thăm dò ý kiến ở châu Âu, nước Ý có tỷ lệ thể hiện đức tin cao nhất (62%), còn Pháp có tỷ lệ thấp nhất (27%).\",\n",
    "                \"Cầu cạn Millau,  Sàn cầu cao cạn cao nhất thế giới, cao 270 m trên sông Tarn tại điểm cao nhất. Nó gần như gấp đôi chiều cao của cầu cao nhất trước đó ở châu Âu, Europabrücke ở Áo. Nó hơi cao hơn Cầu hẻm núi sông New ở Tây Virginia ở Hoa Kỳ, với chiều cao 267m trên Sông New.\",\n",
    "                \"Núi Kilimanjaro, Núi Kilimanjaro Kilimanjaro với 3 chóp núi lửa hình nón, Kibo, Mawensi và Shira, là một núi lửa dạng tầng không hoạt động ở đông bắc Tanzania. Mặc dù không phải là núi cao nhất, nhưng Kilimanjaro lại là ngọn núi đứng một mình cao nhất thế giới với độ cao từ chân núi, và là đỉnh núi cao nhất châu Phi với độ cao 5.895 m (19.340 ft) và cao thứ 4 trong số 7 đỉnh cao nhất theo từng châu lục trên thế giới.\",\n",
    "                \"Montenegro, Các ngọn núi tạo thành địa hình nước này gồ ghề nhất ở châu Âu, độ cao trung bình của các ngon núi ở Montenegro cao hơn 2.000 mét. Một trong những đỉnh núi đáng chú ý là Bobotov Kuk ở vùng núi Durmitor, đạt đến độ cao 2.522 mét. Các dãy núi ở Montenegrin hình thành do băng bị xói mòn ở các bộ phận của bán đảo Balkan trong thời kỳ băng hà cuối cùng.\",\n",
    "                \"Kebnekaise, Sông băng đã rút cạn trong những năm gần đây, do đó đỉnh phía nam không còn cao như trước. Khối núi gắn liền với Kebnepakteglaciären, Isfallsglaciären và Storglaciären về phía thung lũng Tarfala ở phía đông, sông băng Björlings ở phía đông nam, và Rabots glaciär ở phía tây. Ở châu Âu không có ngọn núi nào cao hơn về phía bắc.\",\n",
    "                \"Hẻm núi Sićevo,  Lịch sử. , Ngay từ buổi đầu lịch sử, hẻm núi Sićevo đã nằm trên giao lộ giữa châu Âu với châu Á và châu Phi, là nơi chứng kiến ảnh hưởng của phát triển xã hội và quan hệ kinh tế thời xưa. Các tuyến đường cao tốc châu Âu ở Balkan đi qua hẻm núi Sićevo ngày nay bắt đầu từ con đường Via militaris thời La Mã và Byzantium, phát triển thành \\\"Đường đến Constantinopolis\\\" thời Ottoman cho đến cao tốc xuyên châu Âu tuyến E-75 và nhánh E-80 phía đông vào thế kỷ 21.\",\n",
    "                \"Đèo Champex,  Xem thêm. , Danh sách những con đường trải nhựa cao nhất châu Âu.  Danh sách những đèo núi.\",\n",
    "                \"Cảnh quan thiên nhiên, \\\" Ở đây, ông bẻ cong phần nào nghĩa từ điển thông thường của hoang dã, để nhấn mạnh rằng không có gì tự nhiên, ngay cả trong một khu vườn, hoàn toàn dưới sự kiểm soát của con người.  Châu Âu. , Cảnh quan của châu Âu đã thay đổi đáng kể bởi con người và ngay cả trong một khu vực, như Dãy núi Cairngorm của Scotland, với mật độ dân số thấp, chỉ có \\\"những đỉnh cao của Dãy núi Cairngorm, hoàn toàn bao gồm các yếu tố tự nhiên.\",\n",
    "                \"Luân Đôn, Thành phố có giá bất động sản cao nhất của bất kỳ thành phố châu Âu nào theo Văn phòng thống kê quốc gia và Văn phòng thống kê châu Âu. Trung bình giá mỗi mét vuông ở trung tâm Luân Đôn là € 24,252 (tháng 4 năm 2014). Giá này cao hơn giá bất động sản ở các thành phố thủ đô G8 khác của châu Âu; Berlin € 3,306, Rome € 6,188 và Paris € 11,229.\",\n",
    "                \"Danh sách tòa nhà cao nhất châu Âu, Danh sách tòa nhà cao nhất châu Âu Đây là danh sách tòa nhà cao nhất Châu Âu, xếp hạng tòa nhà chọc trời có chiều cao từ trở lên. Tòa nhà cao nhất Châu Âu hiện nay là Lakhta Center (Tiếng Nga: Лахта центр), cao 462,5 m (1.519 ft) với 87 tầng, tòa nhà được xây dựng năm 2012 ở phía bắc thành phố Saint Petersburg và được hoàn thành vào năm 2018.\",\n",
    "                \"Samos, Núi Kerkis, nhỏ hơn về diện tích song lại cao hơn và đỉnh cao nhất đạt . Những ngọn núi này là sự nối tiếp của dãy Mycale trên đại lục Tiểu Á. Samos là một trong những nơi nhiều nắng nhất tại châu Âu với khoảng 3300 giờ nắng trung bình hay 74% tổng số thời gian ban ngày.\",\n",
    "                \"Danh sách dãy núi ở Ba Lan, Dãy núi Świętokrzyskie, một trong những dãy núi lâu đời nhất ở châu Âu, nằm ở miền trung Ba Lan, trong vùng lân cận của thành phố Kielce. Dãy núi bao gồm một số dãy núi riêng biệt, trong đó cao nhất làLysogóryóry (\\\"vùng núi hói\\\"). Cùng với Jura Krakowsko-Częstochowska, những ngọn núi tạo thành một khu vực được gọi là Vùng thượng du nhỏ Ba Lan (\\\"Wyżyna Małopolska\\\").\",\n",
    "                \"Bồ Đào Nha, Açores nằm giữa nơi giao nhau của các mảng châu Phi, châu Âu và Bắc Mỹ, trên sống núi giữa Đại Tây Dương và gồm có chín đảo. Hai nhóm đảo đều có nguồn gốc núi lửa, hoạt động núi lửa và địa chấn lịch sử vẫn tồn tại cho đến ngày nay. Đỉnh cao nhất của Bồ Đào Nha là núi Pico trên đảo Pico thuộc Açores.\",\n",
    "                \"Châu Á, Đặc điểm của tổng địa hình châu Á là mặt đất lên xuống rất lớn, núi cao đỉnh lớn tụ tập ở khoảng giữa, núi, cao nguyên và gò đồi chiếm chừng 3/4 diện tích cả châu Á. Cả châu Á cách mặt phẳng nước biển trung bình 950 mét, là châu lục có địa thế cao nhất trên thế giới trừ châu Nam Cực ra. Cả châu Á về tổng quát lấy cao nguyên Pamir làm trung tâm, một loạt mạch núi cao lớn duỗi ra hướng về phía tây, mạch núi cao lớn nhất chính là mạch núi Himalaya.\",\n",
    "                \"Rừng hỗn hợp Balkan, Và những loài khác) thống trị hầu hết các khu rừng của vùng sinh thái, xen kẽ các sườn núi cao hơn (trên 800–1200 m). Sồi châu Âu và các loài cây lá kim như thông Scots, thông Bosnia, thông Macedonia, linh sam bạc và vân sam Na Uy. Các đỉnh núi cao nhất là nơi phân bố thảm thực vật vùng núi cao.\",\n",
    "                \"Dãy núi Cú mèo, Các đỉnh khác đạt tới độ cao từ khoảng đến mét trên mực nước biển.  Những tảng đá gneiss tiền Cambri thuộc dãy núi Cú mèo tạo thành phần cổ nhất của Sudetes và là một trong những loại lâu đời nhất ở châu Âu.\",\n",
    "                \"Sicilia, Đây là vùng có diện tích lớn nhất của Ý, nằm tại trung tâm của Địa Trung Hải, phía nam bán đảo Ý, tách khỏi lục địa qua eo biển Messina về phía đông bắc. Cảnh quan nổi bật nhất của Sicilia là núi Etna, đây là núi lửa hoạt động có độ cao lớn nhất tại châu Âu, và là một trong các núi lửa hoạt động mạnh nhất thế giới, có chiều cao hiện tại là 3.329 m. Vùng mang khí hậu Địa Trung Hải đặc trưng.\",\n",
    "                \"Vườn quốc gia Thung lũng Valbonë, Albania Alps là một tính năng địa lý đáng chú ý ở giữa phía Nam và Đông nam châu Âu. Dãy núi là phần cao nhất của dãy Dinaric Alps kéo dài ở phía đông Montenegro, phía tây Kosovo và phía bắc Albania. Sự hình thành của dãy núi là một quá trình từng phần gây ra bởi sự va chạm của hai mảng châu Phi và Á-Âu.\",\n",
    "                \"Shkhara, Núi nằm ở Gruzia. Nằm trong khu vực Svaneti dọc theo biên giới với Nga, Shkhara có cự ly 88 km (55 dặm) về phía bắc của thành phố Kutaisi, thành phố lớn thứ hai của Gruzia. Đỉnh núi nằm ở phần trung tâm của dãy núi Đại Kavkaz, phía đông nam của núi Elbrus, ngọn núi cao nhất của châu Âu.\",\n",
    "                \"Tây Ban Nha, Trong số các loài ăn thịt tiêu biểu nhất, chắc chắn là có linh miêu Iberia, là loài thuộc họ Mèo bị đe doạ lớn nhất tại châu Âu. Dê núi Iberia là một loài đặc hữu, nó phân bố rải rác trên bán đảo. Số lượng các loài chim tại bán đảo Iberia rất cao so với các hệ động vật châu Âu khác, một phần là do các loài chim từ Bắc Âu và châu Phi hạ Sahara đến trú đông hoặc làm tổ tại đây.\",\n",
    "                \"Monti Cimini, Điểm cao nhất của nó là Núi Cimino cao 1.053 m (3.455 ft) so với mực nước biển. Núi Cimino là một phần của Di sản thế giới Các khu rừng sồi nguyên sinh trên dãy Carpath và các khu vực khác của châu Âu được công nhận vào năm 2017. Hồ Vico là một hồ miệng núi lửa nằm tại Monti Cimini.\"\n",
    "            ]}"
   ]
  },
  {
   "cell_type": "code",
   "execution_count": 17,
   "metadata": {},
   "outputs": [],
   "source": [
    "import torch\n",
    "import re\n",
    "def preprocess(text):\n",
    "      text = text.lower()\n",
    "      text = text.replace(\"\\n\",\"\")\n",
    "      text = re.sub(' +', ' ', text)\n",
    "      return text\n",
    "top_h = 10"
   ]
  },
  {
   "cell_type": "code",
   "execution_count": 19,
   "metadata": {},
   "outputs": [
    {
     "name": "stdout",
     "output_type": "stream",
     "text": [
      "[9.637882232666016, 6.847789764404297, 7.043405055999756, 6.744860649108887, 2.3646342754364014, 5.834601402282715, 7.732973098754883, 6.588254928588867, 8.5120210647583, 4.87882661819458, 10.7015380859375, 9.368578910827637, 9.515291213989258, 8.012314796447754, 6.806715965270996, 3.0384302139282227, 9.992883682250977, 9.434259414672852, 8.7046537399292, 7.542773246765137, 3.934147596359253, 9.433761596679688, 8.535072326660156, 7.302475929260254, 10.023519515991211, 7.855940818786621, 7.500170707702637, 10.872486114501953, 5.492908477783203, 7.95218563079834, 8.249159812927246, 10.797009468078613, 9.048017501831055, 7.9615068435668945, 7.856273651123047, 8.661101341247559, 5.71863317489624, 7.059562683105469, 8.205497741699219, 6.531497001647949, 7.825387477874756, 10.244693756103516, 6.070736885070801, 10.219585418701172, 9.381734848022461, 9.611289978027344, 8.453951835632324, 8.456393241882324, 8.032430648803711, 11.659708976745605]\n"
     ]
    }
   ],
   "source": [
    "question_embedding = sentence_model.encode([preprocess(question['question'])], convert_to_tensor=True)\n",
    "question['candidate_passages'] = list(set(question['candidate_passages']))\n",
    "contexts = [preprocess(passage) for passage in question['candidate_passages']]\n",
    "tokenized_contexts = [sent_tokenize(context) for context in contexts]\n",
    "context_scores = []\n",
    "for context in tokenized_contexts:\n",
    "    context_embedding = sentence_model.encode(context, convert_to_tensor=True)\n",
    "    scores = torch.matmul(question_embedding, context_embedding.transpose(0, 1))\n",
    "    scores = scores.mean().item()\n",
    "    context_scores.append(scores)\n",
    "context_id_top_h = torch.argsort(torch.tensor(context_scores), descending=True)[:top_h]\n",
    "print(context_scores)\n",
    "question['candidate_passages'] = [question['candidate_passages'][i] for i in context_id_top_h]"
   ]
  },
  {
   "cell_type": "code",
   "execution_count": 20,
   "metadata": {},
   "outputs": [
    {
     "data": {
      "text/plain": [
       "{'question': 'Núi nào cao nhất Châu Âu?',\n",
       " 'candidate_passages': ['Núi, Theo quan niệm của các nhà nghiên cứu thì núi cao hơn đồi. Theo bách khoa toàn thư Britannica, núi có chiều cao từ 500 m trở lên. Núi là dạng địa hình phổ biến của Trái Đất, chiếm 52% diện tích châu Á, 36% Bắc Mỹ, 25% châu Âu, 22% nam Mỹ, 17% của Australia, khoảng 33% bề mặt châu Âu và 24% bề mặt Trái Đất.',\n",
       "  'Bảy đỉnh núi cao nhất mỗi châu lục, Bảy đỉnh núi cao nhất mỗi châu lục Bảy đỉnh núi cao nhất mỗi châu lục là các núi cao nhất trong bảy châu lục. Việc leo lên tất cả các đỉnh núi này được xem là một thách thức đối với môn thể thao leo núi, người đầu tiên đạt được kỷ lục này vào ngày 30 tháng 4 năm 1985 là Richard Bass.Bảy đỉnh cao mỗi châu lục gồm có các đỉnh núi cao nhất của mỗi bảy châu lục.',\n",
       "  'Núi Ólympos, Núi Ólympos Núi Ólympos (tiếng Hy Lạp: Όλυμπος) hay núi Olympus hoặc Óros Ólimbos, còn gọi là Núi Ô Lim, là ngọn núi cao nhất tại Hy Lạp với độ cao 2.919 m (9.577 ft). Do chân núi nằm gần như ngang với mực nước biển, nên nó là một trong những ngọn núi cao nhất tại châu Âu khi tính theo độ cao tương đối từ chân tới đỉnh.',\n",
       "  'Dãy núi Kavkaz,  Xác định vị trí địa lý. , Không có định nghĩa hay sự thống nhất rõ ràng về việc dãy núi Kavkaz là một phần của châu Âu hay một phần của châu Á. Phụ thuộc vào các cách nhìn nhận khác nhau mà đỉnh núi cao nhất châu Âu hoặc là Elbrus (5.642 m) hoặc là Mont Blanc tại dãy núi Alps, trên biên giới Pháp-Italia, với độ cao 4.810 m.',\n",
       "  'Dãy núi Kavkaz, Trong thuật ngữ chính trị, phân chia ngày nay hoặc được coi là đường biên giới giữa Nga (châu Âu) ở một bên và Gruzia, Armenia cùng Azerbaijan (châu Á) ở bên kia, hoặc là đưa Gruzia và Azerbaijan vào trong châu Âu nhưng không đưa Armenia vào châu lục này, hoặc là đưa cả ba quốc gia này vào châu Âu.  Các đỉnh núi đáng chú ý. , Bảng dưới đây liệt kê một số đỉnh núi cao nhất tại dãy núi Kavkaz.',\n",
       "  'Núi Kilimanjaro, Núi Kilimanjaro Kilimanjaro với 3 chóp núi lửa hình nón, Kibo, Mawensi và Shira, là một núi lửa dạng tầng không hoạt động ở đông bắc Tanzania. Mặc dù không phải là núi cao nhất, nhưng Kilimanjaro lại là ngọn núi đứng một mình cao nhất thế giới với độ cao từ chân núi, và là đỉnh núi cao nhất châu Phi với độ cao 5.895 m (19.340 ft) và cao thứ 4 trong số 7 đỉnh cao nhất theo từng châu lục trên thế giới.',\n",
       "  'Dãy núi Balkan, Dãy núi Balkan Dãy Balkan là dãy núi nằm ở châu âu ở Bán đảo Balkan.Kéo dài từ phía tây của Serbia đến Biển Đen.Phần lớn nhất của nó nằm ở Bulgaria và chia nước này thành hai phần bắc nam. Đỉnh núi cao nhất của nó là Botev',\n",
       "  'Rila, Rila Rila (, ) là một dãy núi ở tây nam Bulgaria, là dãy núi cao nhất Bulgaria và toàn Balkan, với đỉnh cao nhất là Musala (2.925 m). Đây cũng dãy núi cao thứ sáu châu Âu (nếu mỗi khối núi chỉ được đại diện bởi đỉnh cao nhất), sau Kavkaz, Alps, Sierra Nevada, Pyrénées và Núi Etna.',\n",
       "  'Châu Á, Đặc điểm của tổng địa hình châu Á là mặt đất lên xuống rất lớn, núi cao đỉnh lớn tụ tập ở khoảng giữa, núi, cao nguyên và gò đồi chiếm chừng 3/4 diện tích cả châu Á. Cả châu Á cách mặt phẳng nước biển trung bình 950 mét, là châu lục có địa thế cao nhất trên thế giới trừ châu Nam Cực ra. Cả châu Á về tổng quát lấy cao nguyên Pamir làm trung tâm, một loạt mạch núi cao lớn duỗi ra hướng về phía tây, mạch núi cao lớn nhất chính là mạch núi Himalaya.',\n",
       "  'Dãy núi Kavkaz, Dãy núi Kavkaz Dãy núi Kavkaz, hoặc gọi mạch núi Cáp-ca (chữ Anh: Caucasus Mountains) là mạch núi phân chia giới hạn hai châu lục. Đỉnh núi cao nhất của nó là En-bơ-rút, chiều cao so với mức mặt biển của nó là 5.642 mét (18.510 dặm Anh), đồng thời cũng là đỉnh núi cao nhất ở châu Âu.']}"
      ]
     },
     "execution_count": 20,
     "metadata": {},
     "output_type": "execute_result"
    }
   ],
   "source": [
    "question"
   ]
  },
  {
   "cell_type": "code",
   "execution_count": null,
   "metadata": {},
   "outputs": [],
   "source": []
  }
 ],
 "metadata": {
  "kernelspec": {
   "display_name": "Python 3.8.15 ('qatask')",
   "language": "python",
   "name": "python3"
  },
  "language_info": {
   "codemirror_mode": {
    "name": "ipython",
    "version": 3
   },
   "file_extension": ".py",
   "mimetype": "text/x-python",
   "name": "python",
   "nbconvert_exporter": "python",
   "pygments_lexer": "ipython3",
   "version": "3.8.15"
  },
  "orig_nbformat": 4,
  "vscode": {
   "interpreter": {
    "hash": "7a7033bf72fe1b5dac3999545422c7899ed4607e33f67aae521390af1a0fe996"
   }
  }
 },
 "nbformat": 4,
 "nbformat_minor": 2
}
