{
 "cells": [
  {
   "cell_type": "code",
   "execution_count": 4,
   "metadata": {},
   "outputs": [
    {
     "name": "stderr",
     "output_type": "stream",
     "text": [
      "/home/ubuntu/miniconda3/envs/qatask/lib/python3.8/site-packages/tqdm/auto.py:22: TqdmWarning: IProgress not found. Please update jupyter and ipywidgets. See https://ipywidgets.readthedocs.io/en/stable/user_install.html\n",
      "  from .autonotebook import tqdm as notebook_tqdm\n"
     ]
    }
   ],
   "source": [
    "from transformers import DPRContextEncoder, DPRContextEncoderTokenizer, DPRQuestionEncoder, DPRQuestionEncoderTokenizer\n",
    "import numpy as np"
   ]
  },
  {
   "cell_type": "code",
   "execution_count": 5,
   "metadata": {},
   "outputs": [
    {
     "name": "stderr",
     "output_type": "stream",
     "text": [
      "Some weights of the model checkpoint at voidful/dpr-ctx_encoder-bert-base-multilingual were not used when initializing DPRContextEncoder: ['ctx_encoder.bert_model.pooler.dense.weight', 'ctx_encoder.bert_model.pooler.dense.bias']\n",
      "- This IS expected if you are initializing DPRContextEncoder from the checkpoint of a model trained on another task or with another architecture (e.g. initializing a BertForSequenceClassification model from a BertForPreTraining model).\n",
      "- This IS NOT expected if you are initializing DPRContextEncoder from the checkpoint of a model that you expect to be exactly identical (initializing a BertForSequenceClassification model from a BertForSequenceClassification model).\n",
      "The tokenizer class you load from this checkpoint is not the same type as the class this function is called from. It may result in unexpected tokenization. \n",
      "The tokenizer class you load from this checkpoint is 'DPRQuestionEncoderTokenizer'. \n",
      "The class this function is called from is 'DPRContextEncoderTokenizer'.\n",
      "Some weights of the model checkpoint at voidful/dpr-question_encoder-bert-base-multilingual were not used when initializing DPRQuestionEncoder: ['question_encoder.bert_model.pooler.dense.bias', 'question_encoder.bert_model.pooler.dense.weight']\n",
      "- This IS expected if you are initializing DPRQuestionEncoder from the checkpoint of a model trained on another task or with another architecture (e.g. initializing a BertForSequenceClassification model from a BertForPreTraining model).\n",
      "- This IS NOT expected if you are initializing DPRQuestionEncoder from the checkpoint of a model that you expect to be exactly identical (initializing a BertForSequenceClassification model from a BertForSequenceClassification model).\n"
     ]
    }
   ],
   "source": [
    "passage_encoder = \"voidful/dpr-ctx_encoder-bert-base-multilingual\"\n",
    "query_encoder = \"voidful/dpr-question_encoder-bert-base-multilingual\"\n",
    "context_encoder = DPRContextEncoder.from_pretrained(passage_encoder).cuda()\n",
    "context_tokenizer = DPRContextEncoderTokenizer.from_pretrained(passage_encoder)\n",
    "question_encoder = DPRQuestionEncoder.from_pretrained(query_encoder).cuda()\n",
    "question_tokenizer = DPRQuestionEncoderTokenizer.from_pretrained(query_encoder)"
   ]
  },
  {
   "cell_type": "code",
   "execution_count": 87,
   "metadata": {},
   "outputs": [],
   "source": [
    "from transformers import pipeline as _pipeline\n",
    "from collections import Counter\n",
    "from torch.utils.data import DataLoader, Dataset\n",
    "pipeline = _pipeline('question-answering', \n",
    "        model=\"nguyenvulebinh/vi-mrc-large\", \n",
    "        tokenizer=\"nguyenvulebinh/vi-mrc-large\", \n",
    "        device=\"cuda:0\", \n",
    "        batch_size=50)\n",
    "# pipeline = _pipeline(\n",
    "#     \"question-answering\",\n",
    "#     model=\"mrm8488/bert-multi-cased-finetuned-xquadv1\",\n",
    "#     tokenizer=\"mrm8488/bert-multi-cased-finetuned-xquadv1\",\n",
    "#     device=\"cuda:0\",\n",
    "#     batch_size=50\n",
    "# )\n",
    "class ListDataset(Dataset):\n",
    "    def __init__(self, original_list):\n",
    "        self.original_list = original_list\n",
    "\n",
    "    def __len__(self):\n",
    "        return len(self.original_list)\n",
    "\n",
    "    def __getitem__(self, i):\n",
    "        return self.original_list[i]"
   ]
  },
  {
   "cell_type": "code",
   "execution_count": 39,
   "metadata": {},
   "outputs": [],
   "source": [
    "from transformers import AutoTokenizer, AutoModelForSeq2SeqLM\n",
    "tokenizer_trans = AutoTokenizer.from_pretrained(\"VietAI/envit5-translation\")\n",
    "model_trans = AutoModelForSeq2SeqLM.from_pretrained(\"VietAI/envit5-translation\").cuda()\n",
    "def translate(text):\n",
    "    outputs = model_trans.generate(tokenizer_trans(text, return_tensors=\"pt\", padding=True).input_ids.cuda(), max_length=512)\n",
    "    en_text = tokenizer_trans.batch_decode(outputs, skip_special_tokens=True)\n",
    "    return en_text[0][4:]"
   ]
  },
  {
   "cell_type": "code",
   "execution_count": 91,
   "metadata": {},
   "outputs": [],
   "source": [
    "question = \"Hang động nào ở Việt Nam là hang động tự nhiên lớn nhất thế giới?\"\n",
    "contexts =  [\n",
    "                \"Hang Hươu, Hang Hươu Hang Hươu () là một hang ở Borneo, Malaysia, trong Vườn quốc gia Gunung Mulu, một di sản thế giới được UNESCO công nhận. Hang Hươu có chiều cao 196.64 m, rộng 90 m, dài 2 km, từng được xem là hang lớn nhất thế giới cho đến thời điểm năm 2009 khi Hiệp hội Hang động Hoàng gia Anh công bố hang Sơn Đoòng trong Vườn quốc gia Phong Nha-Kẻ Bàng ở Quảng Bình, Việt Nam, là hang có chiều rộng 200 mét, cao hơn 150 mét, dài ít nhất gần 9 km là hang động tự nhiên lớn nhất thế giới. \",\n",
    "                \"Hang Sơn Đoòng, Hang Sơn Đoòng Hang Sơn Đoòng là một hang động tự nhiên tại xã Tân Trạch, huyện Bố Trạch, tỉnh Quảng Bình, Việt Nam. Hang Sơn Đoòng được coi là hang động tự nhiên lớn nhất thế giới đã biết.\",\n",
    "                \"Hiệp hội Hang động Hoàng gia Anh, Ngày 22/4/2009, Hiệp hội hang động Hoàng gia Anh công bố trước ủy ban nhân dân tỉnh Quảng Bình phát hiện hang động lớn nhất thế giới tại Việt Nam. Hang được đặt tên Sơn Đoòng, nằm cách đường Hồ Chí Minh tuyến phía Tây 9,5 km, thuộc di sản thiên nhiên thế giới Phong Nha - Kẻ Bàng. Đoàn thám hiểm mới khám phá được 6,5 km do chưa có điều kiện kỹ thuật tốt nên chưa kết luận khoa học về độ dài của hang động mới này.\",\n",
    "                \"Quảng Bình, Hang Sơn Đoòng Là hang động tự nhiên lớn nhất thế giới,là kỳ quan thiên nhiên và địa chất của nhân loại,thuộc quần thể hang động Phong Nha - Kẻ Bàng, tọa lạc tại xã Sơn Trạch, huyện Bố Trạch, tỉnh Quảng Bình nước ta. Cho tới nay, đây luôn được coi là hang động tự nhiên lớn nhất thế giới từng được phát hiện.Kích thước của hang Sơn Đoòng rất lớn với chiều dài ít nhất là 5 km, tương đương sức chứa khoảng 68 chiếc máy bay Boeing 777. Thậm chí, con số này có thể lớn hơn bởi theo các nhà khoa học, những phương tiện hiện đại nhất ngày nay cũng chưa khám phá được hết chiều dài thực sự của hang động này.Trong hang Sơn Đoòng, các chuyên gia phát hiện những vị trí có kích thước rất lớn.\",\n",
    "                \"Hang, 4/2009 nhóm thám hiểm thuộc Hiệp hội Hang động Hoàng gia Anh công bố phát hiện mới nhất về hang động lớn nhất thế giới Sơn Đoòng, ở di sản thế giới Vườn quốc gia Phong Nha-Kẻ Bàng, tỉnh Quảng Bình, Việt Nam. (hiện đang chờ cập nhật những thông số đo đạc cụ thể). Trước đó giữ kỉ lục này là hang Deer ở Vườn quốc gia Gunung Mulu (Sarawak, Borneo, Malaysia), bề ngang của hang xấp xỉ 600 m và chiều cao từ sàn lên trần hang là 400 m.\",\n",
    "                \"Cửu Hương, Các hang đá, thạch nhũ trong hang được đặt tên, khiến cho các khối đá trở nên có hồn và sinh động. Tổng cộng có trên 100 hang động lớn nhỏ và là quần thể hang động lớn nhất Trung Quốc có diện tích 170 km2 nằm ở độ cao từ 1.750m – 1.900 m so với mặt nước biển, nhiệt độ bình quân năm là 14,6oC. Theo kết luận của các nhà hang động học trên Thế giới, quần thể hang động Củu Hương được hình thành từ 600 triệu năm về trước, là một hang động điển hình của châu Âu và trên thế giới chưa nơi nào có. \",\n",
    "                \"Hang động Việt Nam, Hệ thống hang động ở Việt Nam thường là các hang động nằm trong các vùng núi đá vôi có kiểu địa hình karst rất phát triển. Ba di sản thiên nhiên thế giới của Việt Nam là vịnh Hạ Long, Vườn quốc gia Phong Nha - Kẻ Bàng và quần thể danh thắng Tràng An đều là những danh thắng có những hang động karst nổi tiếng.  Tổng quan.\",\n",
    "                \"Hang động Việt Nam, Hang động Việt Nam Hang động Việt Nam bao gồm hệ thống các hang và các động trên địa bàn Việt Nam, chủ yếu nằm ở nửa phía bắc của đất nước này do tập trung nhiều dãy núi đá vôi. Hang thường được hiểu là khoảng trống sâu tự nhiên hay được đào vào trong đất, trong đá còn động là hang rộng ăn sâu vào trong núi.\",\n",
    "                \"Vườn quốc gia Phong Nha – Kẻ Bàng, Vườn quốc gia này được thiết lập để bảo vệ một trong hai vùng các-xtơ lớn nhất thế giới với khoảng 300 hang động và bảo tồn hệ sinh thái bắc Trường Sơn ở khu vực Bắc Trung Bộ Việt Nam. Đặc trưng của vườn quốc gia này là các kiến tạo đá vôi, 300 hang động, các sông ngầm và hệ động thực vật quý hiếm nằm trong Sách đỏ Việt Nam và Sách đỏ thế giới. Các hang động ở đây có tổng chiều dài khoảng hơn 80 km nhưng các nhà thám hiểm hang động Anh và Việt Nam mới chỉ thám hiểm 20 km, trong đó 17 km ở khu vực Phong Nha và 3 km ở khu vực Kẻ Bàng.\",\n",
    "                \"Du lịch Việt Nam, Hang động Việt Nam chủ yếu nằm ở nửa phía bắc của đất nước này do tập trung nhiều dãy núi đá vôi. Hệ thống hang động ở Việt Nam thường là các hang động nằm trong các vùng núi đá vôi có kiểu địa hình karst rất phát triển. Ba di sản thiên nhiên thế giới của Việt Nam là vịnh Hạ Long, Vườn quốc gia Phong Nha - Kẻ Bàng và quần thể danh thắng Tràng An đều là những danh thắng có những hang động nổi tiếng.\"\n",
    "            ]"
   ]
  },
  {
   "cell_type": "code",
   "execution_count": 101,
   "metadata": {},
   "outputs": [
    {
     "name": "stdout",
     "output_type": "stream",
     "text": [
      "[[16.255587 16.507725 16.536337 15.316751 16.203024 15.630155 18.62155\n",
      "  17.613338 16.906584 19.690176]]\n",
      "['Du lịch Việt Nam, Hang động Việt Nam chủ yếu nằm ở nửa phía bắc của đất nước này do tập trung nhiều dãy núi đá vôi. Hệ thống hang động ở Việt Nam thường là các hang động nằm trong các vùng núi đá vôi có kiểu địa hình karst rất phát triển. Ba di sản thiên nhiên thế giới của Việt Nam là vịnh Hạ Long, Vườn quốc gia Phong Nha - Kẻ Bàng và quần thể danh thắng Tràng An đều là những danh thắng có những hang động nổi tiếng.', 'Hang động Việt Nam, Hệ thống hang động ở Việt Nam thường là các hang động nằm trong các vùng núi đá vôi có kiểu địa hình karst rất phát triển. Ba di sản thiên nhiên thế giới của Việt Nam là vịnh Hạ Long, Vườn quốc gia Phong Nha - Kẻ Bàng và quần thể danh thắng Tràng An đều là những danh thắng có những hang động karst nổi tiếng.  Tổng quan.', 'Hang động Việt Nam, Hang động Việt Nam Hang động Việt Nam bao gồm hệ thống các hang và các động trên địa bàn Việt Nam, chủ yếu nằm ở nửa phía bắc của đất nước này do tập trung nhiều dãy núi đá vôi. Hang thường được hiểu là khoảng trống sâu tự nhiên hay được đào vào trong đất, trong đá còn động là hang rộng ăn sâu vào trong núi.', 'Vườn quốc gia Phong Nha – Kẻ Bàng, Vườn quốc gia này được thiết lập để bảo vệ một trong hai vùng các-xtơ lớn nhất thế giới với khoảng 300 hang động và bảo tồn hệ sinh thái bắc Trường Sơn ở khu vực Bắc Trung Bộ Việt Nam. Đặc trưng của vườn quốc gia này là các kiến tạo đá vôi, 300 hang động, các sông ngầm và hệ động thực vật quý hiếm nằm trong Sách đỏ Việt Nam và Sách đỏ thế giới. Các hang động ở đây có tổng chiều dài khoảng hơn 80 km nhưng các nhà thám hiểm hang động Anh và Việt Nam mới chỉ thám hiểm 20 km, trong đó 17 km ở khu vực Phong Nha và 3 km ở khu vực Kẻ Bàng.', 'Hiệp hội Hang động Hoàng gia Anh, Ngày 22/4/2009, Hiệp hội hang động Hoàng gia Anh công bố trước ủy ban nhân dân tỉnh Quảng Bình phát hiện hang động lớn nhất thế giới tại Việt Nam. Hang được đặt tên Sơn Đoòng, nằm cách đường Hồ Chí Minh tuyến phía Tây 9,5 km, thuộc di sản thiên nhiên thế giới Phong Nha - Kẻ Bàng. Đoàn thám hiểm mới khám phá được 6,5 km do chưa có điều kiện kỹ thuật tốt nên chưa kết luận khoa học về độ dài của hang động mới này.']\n"
     ]
    }
   ],
   "source": [
    "top_k = 5\n",
    "question_ids = question_tokenizer.encode(translate(question), max_length=256, return_tensors='pt', truncation=True).cuda()\n",
    "question_embeddings = question_encoder(question_ids).pooler_output.detach().cpu().numpy()\n",
    "contexts_ids = context_tokenizer([translate(context) for context in contexts], return_tensors='pt', padding=\"longest\", truncation=True, add_special_tokens=True, max_length=512)\n",
    "contexts_embeddings = context_encoder(contexts_ids[\"input_ids\"].cuda()).pooler_output.detach().cpu().numpy()\n",
    "scores = np.matmul(question_embeddings, contexts_embeddings.T)\n",
    "print(scores)\n",
    "candidate_ids = np.argsort(scores)[0][-top_k:][::-1]\n",
    "candidate_passages = [contexts[i] for i in candidate_ids]\n",
    "print(candidate_passages)"
   ]
  },
  {
   "cell_type": "code",
   "execution_count": 102,
   "metadata": {},
   "outputs": [],
   "source": [
    "from underthesea import word_tokenize, text_normalize, sent_tokenize\n",
    "from rank_bm25 import BM25Okapi\n",
    "def sieve(passages, question):\n",
    "    question = word_tokenize(text_normalize(question))\n",
    "    tokenized_passages = []\n",
    "    for passage in passages:\n",
    "        sentences = sent_tokenize(passage)\n",
    "        cleaned_sentences = [text_normalize(sent) for sent in sentences]\n",
    "        cleaned_sentences = [sent for sent in sentences]\n",
    "        tokenized_passage = []\n",
    "        for sent in cleaned_sentences:\n",
    "            tokenized_passage.extend(word_tokenize(sent))\n",
    "        tokenized_passages.append(tokenized_passage)\n",
    "    bm25 = BM25Okapi(tokenized_passages)\n",
    "    topk_passages = bm25.get_top_n(question, passages, n=3)\n",
    "    scores = bm25.get_scores(question)\n",
    "    return topk_passages, scores\n",
    "topk_bm25, scores_bm25 = sieve(contexts, question)"
   ]
  },
  {
   "cell_type": "code",
   "execution_count": 103,
   "metadata": {},
   "outputs": [
    {
     "data": {
      "text/plain": [
       "(['Cửu Hương, Các hang đá, thạch nhũ trong hang được đặt tên, khiến cho các khối đá trở nên có hồn và sinh động. Tổng cộng có trên 100 hang động lớn nhỏ và là quần thể hang động lớn nhất Trung Quốc có diện tích 170 km2 nằm ở độ cao từ 1.750m – 1.900 m so với mặt nước biển, nhiệt độ bình quân năm là 14,6oC. Theo kết luận của các nhà hang động học trên Thế giới, quần thể hang động Củu Hương được hình thành từ 600 triệu năm về trước, là một hang động điển hình của châu Âu và trên thế giới chưa nơi nào có. ',\n",
       "  'Hang Hươu, Hang Hươu Hang Hươu () là một hang ở Borneo, Malaysia, trong Vườn quốc gia Gunung Mulu, một di sản thế giới được UNESCO công nhận. Hang Hươu có chiều cao 196.64 m, rộng 90 m, dài 2 km, từng được xem là hang lớn nhất thế giới cho đến thời điểm năm 2009 khi Hiệp hội Hang động Hoàng gia Anh công bố hang Sơn Đoòng trong Vườn quốc gia Phong Nha-Kẻ Bàng ở Quảng Bình, Việt Nam, là hang có chiều rộng 200 mét, cao hơn 150 mét, dài ít nhất gần 9 km là hang động tự nhiên lớn nhất thế giới. ',\n",
       "  'Hang Sơn Đoòng, Hang Sơn Đoòng Hang Sơn Đoòng là một hang động tự nhiên tại xã Tân Trạch, huyện Bố Trạch, tỉnh Quảng Bình, Việt Nam. Hang Sơn Đoòng được coi là hang động tự nhiên lớn nhất thế giới đã biết.'],\n",
       " array([3.69306232, 3.55678741, 2.43201886, 2.9761202 , 3.23601927,\n",
       "        4.01941409, 2.99740765, 2.51508493, 2.99649713, 2.99514801]))"
      ]
     },
     "execution_count": 103,
     "metadata": {},
     "output_type": "execute_result"
    }
   ],
   "source": [
    "topk_bm25, scores_bm25"
   ]
  },
  {
   "cell_type": "code",
   "execution_count": 104,
   "metadata": {},
   "outputs": [],
   "source": [
    "candidate_passages = candidate_passages+topk_bm25\n"
   ]
  },
  {
   "cell_type": "code",
   "execution_count": 105,
   "metadata": {},
   "outputs": [
    {
     "name": "stdout",
     "output_type": "stream",
     "text": [
      "[{'question': 'Hang động nào ở Việt Nam là hang động tự nhiên lớn nhất thế giới?', 'context': 'Du lịch Việt Nam, Hang động Việt Nam chủ yếu nằm ở nửa phía bắc của đất nước này do tập trung nhiều dãy núi đá vôi. Hệ thống hang động ở Việt Nam thường là các hang động nằm trong các vùng núi đá vôi có kiểu địa hình karst rất phát triển. Ba di sản thiên nhiên thế giới của Việt Nam là vịnh Hạ Long, Vườn quốc gia Phong Nha - Kẻ Bàng và quần thể danh thắng Tràng An đều là những danh thắng có những hang động nổi tiếng.'}, {'question': 'Hang động nào ở Việt Nam là hang động tự nhiên lớn nhất thế giới?', 'context': 'Hang động Việt Nam, Hệ thống hang động ở Việt Nam thường là các hang động nằm trong các vùng núi đá vôi có kiểu địa hình karst rất phát triển. Ba di sản thiên nhiên thế giới của Việt Nam là vịnh Hạ Long, Vườn quốc gia Phong Nha - Kẻ Bàng và quần thể danh thắng Tràng An đều là những danh thắng có những hang động karst nổi tiếng.  Tổng quan.'}, {'question': 'Hang động nào ở Việt Nam là hang động tự nhiên lớn nhất thế giới?', 'context': 'Hang động Việt Nam, Hang động Việt Nam Hang động Việt Nam bao gồm hệ thống các hang và các động trên địa bàn Việt Nam, chủ yếu nằm ở nửa phía bắc của đất nước này do tập trung nhiều dãy núi đá vôi. Hang thường được hiểu là khoảng trống sâu tự nhiên hay được đào vào trong đất, trong đá còn động là hang rộng ăn sâu vào trong núi.'}, {'question': 'Hang động nào ở Việt Nam là hang động tự nhiên lớn nhất thế giới?', 'context': 'Vườn quốc gia Phong Nha – Kẻ Bàng, Vườn quốc gia này được thiết lập để bảo vệ một trong hai vùng các-xtơ lớn nhất thế giới với khoảng 300 hang động và bảo tồn hệ sinh thái bắc Trường Sơn ở khu vực Bắc Trung Bộ Việt Nam. Đặc trưng của vườn quốc gia này là các kiến tạo đá vôi, 300 hang động, các sông ngầm và hệ động thực vật quý hiếm nằm trong Sách đỏ Việt Nam và Sách đỏ thế giới. Các hang động ở đây có tổng chiều dài khoảng hơn 80 km nhưng các nhà thám hiểm hang động Anh và Việt Nam mới chỉ thám hiểm 20 km, trong đó 17 km ở khu vực Phong Nha và 3 km ở khu vực Kẻ Bàng.'}, {'question': 'Hang động nào ở Việt Nam là hang động tự nhiên lớn nhất thế giới?', 'context': 'Hiệp hội Hang động Hoàng gia Anh, Ngày 22/4/2009, Hiệp hội hang động Hoàng gia Anh công bố trước ủy ban nhân dân tỉnh Quảng Bình phát hiện hang động lớn nhất thế giới tại Việt Nam. Hang được đặt tên Sơn Đoòng, nằm cách đường Hồ Chí Minh tuyến phía Tây 9,5 km, thuộc di sản thiên nhiên thế giới Phong Nha - Kẻ Bàng. Đoàn thám hiểm mới khám phá được 6,5 km do chưa có điều kiện kỹ thuật tốt nên chưa kết luận khoa học về độ dài của hang động mới này.'}, {'question': 'Hang động nào ở Việt Nam là hang động tự nhiên lớn nhất thế giới?', 'context': 'Cửu Hương, Các hang đá, thạch nhũ trong hang được đặt tên, khiến cho các khối đá trở nên có hồn và sinh động. Tổng cộng có trên 100 hang động lớn nhỏ và là quần thể hang động lớn nhất Trung Quốc có diện tích 170 km2 nằm ở độ cao từ 1.750m – 1.900 m so với mặt nước biển, nhiệt độ bình quân năm là 14,6oC. Theo kết luận của các nhà hang động học trên Thế giới, quần thể hang động Củu Hương được hình thành từ 600 triệu năm về trước, là một hang động điển hình của châu Âu và trên thế giới chưa nơi nào có. '}, {'question': 'Hang động nào ở Việt Nam là hang động tự nhiên lớn nhất thế giới?', 'context': 'Hang Hươu, Hang Hươu Hang Hươu () là một hang ở Borneo, Malaysia, trong Vườn quốc gia Gunung Mulu, một di sản thế giới được UNESCO công nhận. Hang Hươu có chiều cao 196.64 m, rộng 90 m, dài 2 km, từng được xem là hang lớn nhất thế giới cho đến thời điểm năm 2009 khi Hiệp hội Hang động Hoàng gia Anh công bố hang Sơn Đoòng trong Vườn quốc gia Phong Nha-Kẻ Bàng ở Quảng Bình, Việt Nam, là hang có chiều rộng 200 mét, cao hơn 150 mét, dài ít nhất gần 9 km là hang động tự nhiên lớn nhất thế giới. '}, {'question': 'Hang động nào ở Việt Nam là hang động tự nhiên lớn nhất thế giới?', 'context': 'Hang Sơn Đoòng, Hang Sơn Đoòng Hang Sơn Đoòng là một hang động tự nhiên tại xã Tân Trạch, huyện Bố Trạch, tỉnh Quảng Bình, Việt Nam. Hang Sơn Đoòng được coi là hang động tự nhiên lớn nhất thế giới đã biết.'}]\n",
      "========================================================================================================================================================================================================\n",
      "[{'score': 1.79180194986861e-11, 'start': 286, 'end': 299, 'answer': 'vịnh Hạ Long,'}, {'score': 4.3124781523573574e-11, 'start': 190, 'end': 203, 'answer': 'vịnh Hạ Long,'}, {'score': 1.8989156080895242e-10, 'start': 0, 'end': 9, 'answer': 'Hang động'}, {'score': 8.234129253003458e-14, 'start': 14, 'end': 28, 'answer': 'Phong Nha – Kẻ'}, {'score': 0.6893335580825806, 'start': 199, 'end': 209, 'answer': 'Sơn Đoòng,'}, {'score': 1.001508849185484e-07, 'start': 0, 'end': 10, 'answer': 'Cửu Hương,'}, {'score': 0.99669349193573, 'start': 0, 'end': 10, 'answer': 'Hang Hươu,'}, {'score': 0.7555634379386902, 'start': 0, 'end': 15, 'answer': 'Hang Sơn Đoòng,'}]\n",
      "combined scores [ 19.69017601  18.62154961  17.61333849  16.90658379  85.46969271\n",
      "   3.69307233 103.2261366   77.98836266]\n",
      "Hang Hươu,\n"
     ]
    }
   ],
   "source": [
    "prepared = [{\"question\": question, \"context\": passage} for passage in candidate_passages]\n",
    "prepared_dataset = ListDataset(prepared)\n",
    "predicted = []\n",
    "print(prepared)\n",
    "for batch in DataLoader(prepared_dataset, batch_size=30):\n",
    "    predicted_batch = pipeline(batch)\n",
    "    predicted.extend(predicted_batch)\n",
    "print(\"=\"*200)\n",
    "print(predicted)\n",
    "passage_scores = [scores[0][i] for i in candidate_ids] + [scores_bm25[j] for j in range(len(topk_bm25))]\n",
    "total_scores = np.array(passage_scores) + np.array([p[\"score\"]*100 for p in predicted])\n",
    "print(\"combined scores\", total_scores)\n",
    "best_id = np.argmax(total_scores)\n",
    "# best answer\n",
    "print(predicted[best_id][\"answer\"])\n"
   ]
  },
  {
   "cell_type": "code",
   "execution_count": null,
   "metadata": {},
   "outputs": [],
   "source": []
  }
 ],
 "metadata": {
  "kernelspec": {
   "display_name": "Python 3.8.15 ('qatask')",
   "language": "python",
   "name": "python3"
  },
  "language_info": {
   "codemirror_mode": {
    "name": "ipython",
    "version": 3
   },
   "file_extension": ".py",
   "mimetype": "text/x-python",
   "name": "python",
   "nbconvert_exporter": "python",
   "pygments_lexer": "ipython3",
   "version": "3.8.15"
  },
  "orig_nbformat": 4,
  "vscode": {
   "interpreter": {
    "hash": "aade5de1655e110611ad6bd5bcd10bbd960cf049e5bbb8e89b6cfad01aa7e7ee"
   }
  }
 },
 "nbformat": 4,
 "nbformat_minor": 2
}
